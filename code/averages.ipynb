{
 "cells": [
  {
   "cell_type": "code",
   "execution_count": 1,
   "metadata": {
    "collapsed": true
   },
   "outputs": [],
   "source": [
    "import matplotlib.pyplot as plt\n",
    "import numpy as np\n",
    "import os\n",
    "from scipy import stats\n",
    "import glob\n",
    "from scipy.stats import ks_2samp, kstest\n",
    "%matplotlib inline"
   ]
  },
  {
   "cell_type": "code",
   "execution_count": 2,
   "metadata": {
    "collapsed": true
   },
   "outputs": [],
   "source": [
    "def load_summary(filename):\n",
    "    dtype=[('minr', 'f8'),\n",
    "           ('maxr', 'f8'), \n",
    "           ('ca_ratio', 'f8'),\n",
    "           ('ba_ratio', 'f8'),\n",
    "           ('a', 'f8'),\n",
    "           ('center', 'f8'),\n",
    "           ('width', 'f8'),\n",
    "           ('mu', 'f8')]\n",
    "    summary = np.loadtxt(filename, dtype=dtype)    \n",
    "    return summary"
   ]
  },
  {
   "cell_type": "code",
   "execution_count": 3,
   "metadata": {
    "collapsed": false
   },
   "outputs": [],
   "source": [
    "def load_experiment(input_path=\"../data/mstar_selected_summary/vmax_sorted/\", fixed_number=False, full_data=False):\n",
    "    files = glob.glob(input_path+\"M31_group_*\")\n",
    "    group_id = []\n",
    "    for f in files:\n",
    "        i = int(f.split(\"_\")[-5])\n",
    "        if i not in group_id:\n",
    "            group_id.append(i)\n",
    "    print(group_id, len(group_id))\n",
    "\n",
    "    n_groups = len(group_id)\n",
    "\n",
    "    if fixed_number:\n",
    "        n_iter = np.arange(5)\n",
    "    else:\n",
    "        n_iter = np.arange(11,16)\n",
    "    \n",
    "    fields = ['width','mu', 'a', 'ba_ratio', 'ca_ratio']\n",
    "    M31_all = {}\n",
    "    MW_all = {}\n",
    "    if not full_data:\n",
    "        for field in fields:\n",
    "            M31_all[field] = np.ones(n_groups)\n",
    "            MW_all[field] = np.ones(n_groups)\n",
    "            M31_all[field+'_sigma'] = np.ones(n_groups)\n",
    "            MW_all[field+'_sigma'] = np.ones(n_groups)\n",
    "        \n",
    "            M31_all[field+'_random'] = np.ones(n_groups)\n",
    "            MW_all[field+'_random'] = np.ones(n_groups)\n",
    "            M31_all[field+'_random_sigma'] = np.ones(n_groups)\n",
    "            MW_all[field+'_random_sigma'] = np.ones(n_groups)\n",
    "    else:\n",
    "        for field in fields:\n",
    "            M31_all[field] = np.empty((0))\n",
    "            MW_all[field] = np.empty((0))\n",
    "            M31_all[field+'_random'] = np.empty((0))\n",
    "            MW_all[field+'_random'] = np.empty((0))\n",
    "           \n",
    "\n",
    "    for g in range(n_groups):\n",
    "\n",
    "        MW_summary = {}\n",
    "        M31_summary = {}\n",
    "    \n",
    "        for i in n_iter:\n",
    "            if fixed_number:\n",
    "                filename_MW = os.path.join(input_path,\"MW_group_{}_nmax_{}_iter_{}.dat\".format(group_id[g], 11, i))\n",
    "                filename_M31 = os.path.join(input_path,\"M31_group_{}_nmax_{}_iter_{}.dat\".format(group_id[g],11, i))\n",
    "            else:\n",
    "                filename_MW = os.path.join(input_path,\"MW_group_{}_nmax_{}_iter_{}.dat\".format(group_id[g], i, 0))\n",
    "                filename_M31 = os.path.join(input_path,\"M31_group_{}_nmax_{}_iter_{}.dat\".format(group_id[g], i, 0))\n",
    "\n",
    "            MW_summary[i] = load_summary(filename_MW)\n",
    "            M31_summary[i] = load_summary(filename_M31)\n",
    "    \n",
    "        \n",
    "        for field in fields:\n",
    "            a = np.empty((0))\n",
    "            b = np.empty((0))\n",
    "            a_random = np.empty((0))\n",
    "            b_random = np.empty((0))\n",
    "        \n",
    "            for i in n_iter:\n",
    "                data = M31_summary[i]\n",
    "                a = np.append(a, data[field][0])\n",
    "                a_random = np.append(a_random, data[field][1:101])\n",
    "        \n",
    "                data = MW_summary[i]\n",
    "                b = np.append(b, data[field][0])\n",
    "                b_random = np.append(b_random, data[field][1:101])\n",
    "                #print('a_random {} iter: {} {}'.format(field, i, a_random))\n",
    "                \n",
    "            if not full_data:\n",
    "                M31_all[field][g] = np.average(a)\n",
    "                MW_all[field][g] = np.average(b)\n",
    "                M31_all[field+'_sigma'][g] = np.std(a)\n",
    "                MW_all[field+'_sigma'][g] = np.std(b)\n",
    "                M31_all[field+'_random'][g] = np.average(a_random)\n",
    "                MW_all[field+'_random'][g] = np.average(b_random)\n",
    "                M31_all[field+'_random_sigma'][g] = np.std(a_random)\n",
    "                MW_all[field+'_random_sigma'][g] = np.std(b_random)\n",
    "            else:\n",
    "                M31_all[field] = np.append(M31_all[field], a)\n",
    "                MW_all[field] = np.append(MW_all[field], b)\n",
    "                M31_all[field+'_random'] = np.append(M31_all[field+'_random'], a_random)\n",
    "                MW_all[field+'_random'] = np.append(MW_all[field+'_random'], b_random)\n",
    "                \n",
    "    return M31_all, MW_all"
   ]
  },
  {
   "cell_type": "code",
   "execution_count": 6,
   "metadata": {
    "collapsed": false
   },
   "outputs": [
    {
     "name": "stdout",
     "output_type": "stream",
     "text": [
      "[0] 1\n",
      "[0, 10, 11, 13, 14, 16, 18, 1, 20, 21, 22, 24, 25, 2, 3, 4, 5, 6, 8, 9] 20\n",
      "[0, 10, 11, 1, 2, 3, 4, 5, 6, 7, 8, 9] 12\n"
     ]
    }
   ],
   "source": [
    "in_path = \"../data/obs_summary/vmag_sorted/\"\n",
    "M31_obs_vmag_sorted, MW_obs_vmag_sorted = load_experiment(input_path=in_path, fixed_number=False, full_data=False)\n",
    "\n",
    "in_path = \"../data/mstar_selected_summary/vmax_sorted/\"\n",
    "M31_sim_vmax_sorted, MW_sim_vmax_sorted = load_experiment(input_path=in_path, fixed_number=False)\n",
    "\n",
    "in_path = \"../data/elvis_mstar_selected_summary/vmax_sorted/\"\n",
    "M31_sim_vmax_sorted_elvis, MW_sim_vmax_sorted_elvis = load_experiment(input_path=in_path, fixed_number=False)"
   ]
  },
  {
   "cell_type": "code",
   "execution_count": 39,
   "metadata": {
    "collapsed": false
   },
   "outputs": [
    {
     "name": "stdout",
     "output_type": "stream",
     "text": [
      "M31 observations \n",
      "\n",
      "Natural units\n",
      " width 59.06998 3.00637879742\n",
      "Natural units\n",
      " ca_ratio 0.6714 0.0302958743066\n",
      "Natural units\n",
      " ba_ratio 0.9064 0.0365600875272\n",
      "\n",
      "MW observations \n",
      "\n",
      "Natural units\n",
      " width 22.78204 2.06005897061\n",
      "Natural units\n",
      " ca_ratio 0.5322 0.0356\n",
      "Natural units\n",
      " ba_ratio 0.8844 0.0146232691283\n"
     ]
    }
   ],
   "source": [
    "print(\"M31 observations \\n\")\n",
    "fields = ['width', 'ca_ratio', 'ba_ratio']\n",
    "for field in fields:\n",
    "    print(\"Natural units\\n\", field, M31_obs_vmag_sorted[field][0], M31_obs_vmag_sorted[field+'_sigma'][0])\n",
    "    \n",
    "    \n",
    "print(\"\\nMW observations \\n\")\n",
    "fields = ['width', 'ca_ratio', 'ba_ratio']\n",
    "for field in fields:\n",
    "    print(\"Natural units\\n\", field, MW_obs_vmag_sorted[field][0], MW_obs_vmag_sorted[field+'_sigma'][0])"
   ]
  },
  {
   "cell_type": "code",
   "execution_count": 40,
   "metadata": {
    "collapsed": false
   },
   "outputs": [
    {
     "name": "stdout",
     "output_type": "stream",
     "text": [
      "M31 observations \n",
      "\n",
      "Normalized units\n",
      " width -0.547584820032 0.253316078946\n",
      "Normalized units\n",
      " ca_ratio -1.14421864668 0.423189006753\n",
      "Normalized units\n",
      " ba_ratio 0.0462005093632 0.802801647397\n",
      "\n",
      "MW observations \n",
      "\n",
      "Normalized units\n",
      " width -2.68825100874 0.241771601497\n",
      "Normalized units\n",
      " ca_ratio -2.51298957688 0.457519402556\n",
      "Normalized units\n",
      " ba_ratio -0.365636248818 0.30977967958\n"
     ]
    }
   ],
   "source": [
    "print(\"M31 observations \\n\")\n",
    "fields = ['width', 'ca_ratio', 'ba_ratio']\n",
    "for field in fields:    \n",
    "    normed_mean = (M31_obs_vmag_sorted[field][0] - M31_obs_vmag_sorted[field+'_random'][0])/M31_obs_vmag_sorted[field+'_random_sigma'][0]\n",
    "    normed_sigma = M31_obs_vmag_sorted[field+'_sigma'][0]/M31_obs_vmag_sorted[field+'_random_sigma'][0]\n",
    "\n",
    "    print(\"Normalized units\\n\", field, normed_mean, normed_sigma)\n",
    "\n",
    "    \n",
    "print(\"\\nMW observations \\n\")\n",
    "fields = ['width', 'ca_ratio', 'ba_ratio']\n",
    "for field in fields:\n",
    "    \n",
    "    normed_mean = (MW_obs_vmag_sorted[field][0] - MW_obs_vmag_sorted[field+'_random'][0])/MW_obs_vmag_sorted[field+'_random_sigma'][0]\n",
    "    normed_sigma = MW_obs_vmag_sorted[field+'_sigma'][0]/MW_obs_vmag_sorted[field+'_random_sigma'][0]\n",
    "\n",
    "    print(\"Normalized units\\n\", field, normed_mean, normed_sigma)"
   ]
  },
  {
   "cell_type": "code",
   "execution_count": 41,
   "metadata": {
    "collapsed": false
   },
   "outputs": [
    {
     "name": "stdout",
     "output_type": "stream",
     "text": [
      "M31 observations (spherically randomized)\n",
      "\n",
      "Natural units\n",
      " width 65.5687676 11.8680930557\n",
      "Natural units\n",
      " ca_ratio 0.753314 0.0715894643366\n",
      "Natural units\n",
      " ba_ratio 0.904296 0.0455406234476\n",
      "\n",
      "MW observations (spherically randomized)\n",
      "\n",
      "Natural units\n",
      " width 45.6877724 8.52068215561\n",
      "Natural units\n",
      " ca_ratio 0.727738 0.0778109076929\n",
      "Natural units\n",
      " ba_ratio 0.90166 0.047205385286\n"
     ]
    }
   ],
   "source": [
    "print(\"M31 observations (spherically randomized)\\n\")\n",
    "fields = ['width', 'ca_ratio', 'ba_ratio']\n",
    "for field in fields:\n",
    "    print(\"Natural units\\n\", field, M31_obs_vmag_sorted[field+'_random'][0], M31_obs_vmag_sorted[field+'_random_sigma'][0])\n",
    "    \n",
    "print(\"\\nMW observations (spherically randomized)\\n\")\n",
    "fields = ['width', 'ca_ratio', 'ba_ratio']\n",
    "for field in fields:\n",
    "    print(\"Natural units\\n\", field, MW_obs_vmag_sorted[field+'_random'][0], MW_obs_vmag_sorted[field+'_random_sigma'][0])\n"
   ]
  },
  {
   "cell_type": "code",
   "execution_count": 42,
   "metadata": {
    "collapsed": false
   },
   "outputs": [
    {
     "name": "stdout",
     "output_type": "stream",
     "text": [
      "M31 illustris simulation \n",
      "\n",
      "Natural units\n",
      " width 70.679036 4.4508046938\n",
      "Natural units\n",
      " ca_ratio 0.72254 0.0127019318583\n",
      "Natural units\n",
      " ba_ratio 0.89777 0.0114030037112\n",
      "\n",
      "MW illustris simulation \n",
      "\n",
      "Natural units\n",
      " width 67.187621 2.09660462277\n",
      "Natural units\n",
      " ca_ratio 0.72543 0.00869137181508\n",
      "Natural units\n",
      " ba_ratio 0.89654 0.011473108531\n"
     ]
    }
   ],
   "source": [
    "print(\"M31 illustris simulation \\n\")\n",
    "fields = ['width', 'ca_ratio', 'ba_ratio']\n",
    "for field in fields:\n",
    "    print(\"Natural units\\n\", field, \n",
    "          np.mean(M31_sim_vmax_sorted[field]), np.std(M31_sim_vmax_sorted[field+'_sigma']))\n",
    "    \n",
    "    \n",
    "print(\"\\nMW illustris simulation \\n\")\n",
    "fields = ['width', 'ca_ratio', 'ba_ratio']\n",
    "for field in fields:\n",
    "    print(\"Natural units\\n\", field, \n",
    "          np.mean(MW_sim_vmax_sorted[field]), np.std(MW_sim_vmax_sorted[field+'_sigma']))\n",
    "  "
   ]
  },
  {
   "cell_type": "code",
   "execution_count": 37,
   "metadata": {
    "collapsed": false
   },
   "outputs": [
    {
     "name": "stdout",
     "output_type": "stream",
     "text": [
      "M31 elvis simulation \n",
      "\n",
      "Natural units\n",
      " width 70.61085 1.96390149498\n",
      "Natural units\n",
      " ca_ratio 0.734283333333 0.0119625645738\n",
      "Natural units\n",
      " ba_ratio 0.89865 0.0106778245688\n",
      "\n",
      "MW elvis simulation \n",
      "\n",
      "Natural units\n",
      " width 68.82925 4.17411639232\n",
      "Natural units\n",
      " ca_ratio 0.69415 0.0148215086668\n",
      "Natural units\n",
      " ba_ratio 0.903666666667 0.0106749153199\n"
     ]
    }
   ],
   "source": [
    "print(\"M31 elvis simulation \\n\")\n",
    "fields = ['width', 'ca_ratio', 'ba_ratio']\n",
    "for field in fields:\n",
    "    print(\"Natural units\\n\", field, \n",
    "          np.mean(M31_sim_vmax_sorted_elvis[field]), np.std(M31_sim_vmax_sorted_elvis[field+'_sigma']))\n",
    "    \n",
    "    \n",
    "print(\"\\nMW elvis simulation \\n\")\n",
    "fields = ['width', 'ca_ratio', 'ba_ratio']\n",
    "for field in fields:\n",
    "    print(\"Natural units\\n\", field, \n",
    "          np.mean(MW_sim_vmax_sorted_elvis[field]), np.std(MW_sim_vmax_sorted_elvis[field+'_sigma']))\n",
    "  "
   ]
  },
  {
   "cell_type": "code",
   "execution_count": null,
   "metadata": {
    "collapsed": true
   },
   "outputs": [],
   "source": []
  },
  {
   "cell_type": "code",
   "execution_count": null,
   "metadata": {
    "collapsed": true
   },
   "outputs": [],
   "source": []
  }
 ],
 "metadata": {
  "kernelspec": {
   "display_name": "Python 3",
   "language": "python",
   "name": "python3"
  },
  "language_info": {
   "codemirror_mode": {
    "name": "ipython",
    "version": 3
   },
   "file_extension": ".py",
   "mimetype": "text/x-python",
   "name": "python",
   "nbconvert_exporter": "python",
   "pygments_lexer": "ipython3",
   "version": "3.6.0"
  }
 },
 "nbformat": 4,
 "nbformat_minor": 2
}
