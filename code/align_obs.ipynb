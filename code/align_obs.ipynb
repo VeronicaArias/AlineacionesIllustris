{
 "cells": [
  {
   "cell_type": "code",
   "execution_count": 1,
   "metadata": {
    "collapsed": true
   },
   "outputs": [],
   "source": [
    "%matplotlib inline\n",
    "import numpy as np"
   ]
  },
  {
   "cell_type": "code",
   "execution_count": 13,
   "metadata": {
    "collapsed": false
   },
   "outputs": [],
   "source": [
    "M31_galactic={'LONG':336.1933604, 'LAT':12.5521171} \n",
    "virgo_galactic={'LONG':102.93007,'LAT':-2.37172 }"
   ]
  },
  {
   "cell_type": "code",
   "execution_count": 18,
   "metadata": {
    "collapsed": true
   },
   "outputs": [],
   "source": [
    "def gal_to_cart(gal_dict):\n",
    "    X = np.cos(gal_dict['LAT']*np.pi/180.0) * np.cos(gal_dict['LONG']*np.pi/180.0)\n",
    "    Y = np.cos(gal_dict['LAT']*np.pi/180.0) * np.sin(gal_dict['LONG']*np.pi/180.0)\n",
    "    Z = np.sin(gal_dict['LAT']*np.pi/180.0) \n",
    "    return {'X': X, 'Y':Y, 'Z':Z}"
   ]
  },
  {
   "cell_type": "code",
   "execution_count": 19,
   "metadata": {
    "collapsed": false
   },
   "outputs": [],
   "source": [
    "M31_cart = gal_to_cart(M31_galactic)\n",
    "virgo_cart = gal_to_cart(virgo_galactic)"
   ]
  },
  {
   "cell_type": "code",
   "execution_count": 20,
   "metadata": {
    "collapsed": false
   },
   "outputs": [
    {
     "data": {
      "text/plain": [
       "{'X': -0.22356998059737307,\n",
       " 'Y': 0.97380899167314616,\n",
       " 'Z': -0.041382502488619917}"
      ]
     },
     "execution_count": 20,
     "metadata": {},
     "output_type": "execute_result"
    }
   ],
   "source": [
    "virgo_cart"
   ]
  },
  {
   "cell_type": "code",
   "execution_count": 21,
   "metadata": {
    "collapsed": false
   },
   "outputs": [
    {
     "data": {
      "text/plain": [
       "{'X': 0.89304531435102519, 'Y': -0.39400354117838554, 'Z': 0.21732757775894651}"
      ]
     },
     "execution_count": 21,
     "metadata": {},
     "output_type": "execute_result"
    }
   ],
   "source": [
    "M31_cart"
   ]
  },
  {
   "cell_type": "code",
   "execution_count": 23,
   "metadata": {
    "collapsed": false
   },
   "outputs": [],
   "source": [
    "e_3 = {'X':-0.5175, 'Y':0.8484, 'Z':0.1108} # from v-web in cosmic flow reconstruction"
   ]
  },
  {
   "cell_type": "code",
   "execution_count": 29,
   "metadata": {
    "collapsed": false
   },
   "outputs": [],
   "source": [
    "def get_mu(a, b):\n",
    "    mu = np.fabs(a['X'] * b['X']  + a['Y'] * b['Y'] + a['Z']*b['Z'])\n",
    "    return mu"
   ]
  },
  {
   "cell_type": "code",
   "execution_count": 33,
   "metadata": {
    "collapsed": false
   },
   "outputs": [
    {
     "name": "stdout",
     "output_type": "stream",
     "text": [
      "0.772343658897\n",
      "0.937291832219\n",
      "0.59233587378\n"
     ]
    }
   ],
   "source": [
    "print get_mu(M31_cart, e_3)\n",
    "print get_mu(virgo_cart, e_3)\n",
    "print get_mu(M31_cart, virgo_cart)"
   ]
  },
  {
   "cell_type": "code",
   "execution_count": null,
   "metadata": {
    "collapsed": true
   },
   "outputs": [],
   "source": []
  }
 ],
 "metadata": {
  "kernelspec": {
   "display_name": "Python 2",
   "language": "python",
   "name": "python2"
  },
  "language_info": {
   "codemirror_mode": {
    "name": "ipython",
    "version": 2
   },
   "file_extension": ".py",
   "mimetype": "text/x-python",
   "name": "python",
   "nbconvert_exporter": "python",
   "pygments_lexer": "ipython2",
   "version": "2.7.6"
  }
 },
 "nbformat": 4,
 "nbformat_minor": 0
}
