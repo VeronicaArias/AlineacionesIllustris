{
 "cells": [
  {
   "cell_type": "code",
   "execution_count": 274,
   "metadata": {
    "collapsed": false
   },
   "outputs": [],
   "source": [
    "import matplotlib.pyplot as plt\n",
    "import numpy as np\n",
    "import matplotlib.cm as cm\n",
    "from scipy.optimize import curve_fit\n",
    "import matplotlib as mpl\n",
    "import struct\n",
    "import glob\n",
    "import os \n",
    "import struct\n",
    "from sklearn import linear_model\n",
    "import scipy.linalg\n",
    "from scipy import stats\n",
    "from scipy import integrate\n",
    "hubble = 0.73\n",
    "vmax_MW = 220.0\n",
    "vmax_M31 = 270.0\n",
    "m_star_M31 = 10.3\n",
    "m_star_MW = 6.08\n",
    "\n",
    "%matplotlib inline"
   ]
  },
  {
   "cell_type": "code",
   "execution_count": 189,
   "metadata": {
    "collapsed": true
   },
   "outputs": [],
   "source": [
    "def load_summary(filename):\n",
    "    dtype=[('minr', 'f8'),\n",
    "           ('maxr', 'f8'), \n",
    "           ('ca_ratio', 'f8'),\n",
    "           ('ba_ratio', 'f8'),\n",
    "           ('a', 'f8'),\n",
    "           ('center', 'f8'),\n",
    "           ('width', 'f8'),\n",
    "           ('mu', 'f8')]\n",
    "    summary = np.loadtxt(filename, dtype=dtype)    \n",
    "    return summary"
   ]
  },
  {
   "cell_type": "code",
   "execution_count": 2,
   "metadata": {
    "collapsed": true
   },
   "outputs": [],
   "source": [
    "def load_snapshot(snap_name, boxsize=75000.0):\n",
    "    dtype=[('subid','i8'),\n",
    "           ('parentid','i8'),\n",
    "           ('x', 'f8'),\n",
    "           ('y', 'f8'), \n",
    "           ('z', 'f8'),\n",
    "           ('vx', 'f8'),\n",
    "           ('vy', 'f8'),\n",
    "           ('vz', 'f8'),\n",
    "           ('vmax', 'f8'),\n",
    "           ('bmag', 'f8'),\n",
    "           ('vmag', 'f8'),\n",
    "           ('mstar', 'f8')]\n",
    "    snap_data = np.loadtxt(snap_name, dtype=dtype)    \n",
    "    # this takes into account periodic boudary conditions from Illustris\n",
    "    for col in list(['x','y','z']):\n",
    "        if((snap_data[col].max() - snap_data[col].min()) > 0.5 * boxsize):\n",
    "            snap_data[col] = (snap_data[col] - 0.5 * boxsize) % boxsize\n",
    "    return snap_data"
   ]
  },
  {
   "cell_type": "code",
   "execution_count": 3,
   "metadata": {
    "collapsed": true
   },
   "outputs": [],
   "source": [
    "def load_obs(obs_name):\n",
    "    dtype=[('name','|S20'),\n",
    "           ('x', 'f8'),\n",
    "           ('y', 'f8'), \n",
    "           ('z', 'f8'),\n",
    "           ('delta_plus', 'f8'),\n",
    "           ('delta_minus', 'f8'),\n",
    "           ('vmag', 'f8'),\n",
    "           ('delta_vmag', 'f8')]\n",
    "    obs_data = np.loadtxt(obs_name, dtype=dtype)    \n",
    "    return obs_data"
   ]
  },
  {
   "cell_type": "code",
   "execution_count": 4,
   "metadata": {
    "collapsed": true
   },
   "outputs": [],
   "source": [
    "def main_halos(snap_data, sort_column='mstar', single_reverse=False):\n",
    "    id_sorted = np.argsort(snap_data[sort_column])\n",
    "    if single_reverse:\n",
    "        id_halo_A = id_sorted[0]\n",
    "        main_halos_data = snap_data[id_halo_A]\n",
    "    else:\n",
    "        id_halo_A = id_sorted[-1]\n",
    "        id_halo_B = id_sorted[-2]\n",
    "        main_halos_data = snap_data[[id_halo_A, id_halo_B]]\n",
    "    return main_halos_data"
   ]
  },
  {
   "cell_type": "code",
   "execution_count": 75,
   "metadata": {
    "collapsed": false
   },
   "outputs": [],
   "source": [
    "def satellite_halos(halo_data, halo_center, vmax=None, max_points=10, sort_column='vmag'):\n",
    "    jj = np.argsort(halo_data[sort_column])\n",
    "    tmp_halo = halo_data[jj]\n",
    "    if vmax is None:\n",
    "        radius = halo_center['vmax']/(10.0 * 100 * hubble) * 1000 # in kpc\n",
    "    else:\n",
    "        radius = vmax/(10.0 * 100 * hubble) * 1000  # in kpc\n",
    "    radius = 300\n",
    "    print('radius', radius)\n",
    "    for col in list(['x','y','z']):\n",
    "        tmp_halo[col] = tmp_halo[col] - halo_center[col]\n",
    "    \n",
    "    r = np.sqrt(tmp_halo['x']**2 + tmp_halo['y']**2 + tmp_halo['z']**2)\n",
    "    ii = (r < radius) & (r>1E-6)\n",
    "    \n",
    "    tmp_halo = tmp_halo[ii]\n",
    "    r = np.sqrt(tmp_halo['x']**2 + tmp_halo['y']**2 + tmp_halo['z']**2)\n",
    "    #print(tmp_halo[:max_points],r[:max_points])\n",
    "    return tmp_halo[:max_points], np.min(r[:max_points]), np.max(r[:max_points])"
   ]
  },
  {
   "cell_type": "code",
   "execution_count": 76,
   "metadata": {
    "collapsed": true
   },
   "outputs": [],
   "source": [
    "def spherical_randomize(x_in, y_in, z_in):\n",
    "    \"\"\"\n",
    "    Randomizes a set of points around the coordinates origin.\n",
    "    \"\"\"\n",
    "    n_points = len(x_in)\n",
    "    r = np.sqrt(x_in**2 + y_in**2 + z_in**2)\n",
    "    phi = np.random.random(n_points) * 2.0 * np.pi\n",
    "    costheta = 2.0*(np.random.random(n_points) -0.5)\n",
    "    theta = np.arccos(costheta)\n",
    "    x = r * np.sin(theta) * np.cos(phi)\n",
    "    y = r * np.sin(theta) * np.sin(phi)\n",
    "    z = r * np.cos(theta)\n",
    "    return x, y, z"
   ]
  },
  {
   "cell_type": "code",
   "execution_count": 77,
   "metadata": {
    "collapsed": true
   },
   "outputs": [],
   "source": [
    "def inertiaTensor(x_in,y_in,z_in, randomize=False):\n",
    "    # first recenter the data\n",
    "    x = x_in - np.mean(x_in)\n",
    "    y = y_in - np.mean(y_in)\n",
    "    z = z_in - np.mean(z_in)\n",
    "    if randomize:\n",
    "        x, y, z = spherical_randomize(x_in - np.mean(x_in), \n",
    "                                      y_in - np.mean(y_in), \n",
    "                                      z_in - np.mean(z_in))\n",
    "    \n",
    "    I=[]\n",
    "    for index in range(9):\n",
    "        I.append(0)\n",
    "   \n",
    "    I[0] = np.sum(y*y+z*z) \n",
    "    I[1] = np.sum(-y*x)    \n",
    "    I[2] = np.sum(-x*z)    \n",
    "    I[3] = np.sum(-y*x)    \n",
    "    I[4] = np.sum(x*x+z*z) \n",
    "    I[5] = np.sum(-y*z)    \n",
    "    I[6] = np.sum(-z*x)    \n",
    "    I[7] = np.sum(-z*y)    \n",
    "    I[8] = np.sum(x*x+y*y) \n",
    "    tensor = np.array([(I[0:3]), (I[3:6]), (I[6:9])])\n",
    "    vals, vects = np.linalg.eig(tensor)  # they come out unsorted, so the command below is needed\n",
    "    eig_ord = np.argsort(vals)  # a thing to note is that here COLUMN i corrensponds to eigenvalue i.\n",
    "    ord_vals = vals[eig_ord]\n",
    "    ord_vects = vects[:, eig_ord].T\n",
    "    \n",
    "    plane_vector = ord_vects[2]\n",
    "    distance_to_plane = x * plane_vector[0]\n",
    "    distance_to_plane += y * plane_vector[1]\n",
    "    distance_to_plane += z * plane_vector[2]\n",
    "\n",
    "    #use ord_vects[2] to define the plane width\n",
    "    return ord_vals, plane_vector, distance_to_plane.mean(), distance_to_plane.std()"
   ]
  },
  {
   "cell_type": "code",
   "execution_count": 78,
   "metadata": {
    "collapsed": true
   },
   "outputs": [],
   "source": [
    "def gen_random_sphere(n_points):\n",
    "    \"\"\"\n",
    "    Sets of points in the 3D sphere\n",
    "    \"\"\"\n",
    "    r = np.random.random(n_points)**(1.0/3.0)\n",
    "    phi = np.random.random(n_points) * 2.0 * np.pi\n",
    "    costheta = 2.0*(np.random.random(n_points) -0.5)\n",
    "    theta = np.arccos(costheta)\n",
    "    x = r * np.sin(theta) * np.cos(phi)\n",
    "    y = r * np.sin(theta) * np.sin(phi)\n",
    "    z = r * np.cos(theta)\n",
    "    return x, y, z"
   ]
  },
  {
   "cell_type": "code",
   "execution_count": 79,
   "metadata": {
    "collapsed": false
   },
   "outputs": [],
   "source": [
    "def sample_plane_width(x_in, y_in, z_in , n_realizations=100):\n",
    "    \"\"\"\n",
    "    Sample the best plane width for  different n_points\n",
    "    \"\"\"\n",
    "\n",
    "    p_width_all = np.zeros(n_realizations)\n",
    "    p_center_all = np.zeros(n_realizations)\n",
    "    for i in range(n_realizations):\n",
    "        x, y, z = spherical_randomize(x_in, y_in, z_in)\n",
    "        pos = np.array([x,y,z])\n",
    "        p_width_all[i], p_center_all[i] , q = get_best_plane(pos)\n",
    "    \n",
    "    return p_width_all.mean(), p_width_all.std(), p_center_all.mean(), p_center_all.std()"
   ]
  },
  {
   "cell_type": "code",
   "execution_count": 182,
   "metadata": {
    "collapsed": true
   },
   "outputs": [],
   "source": [
    "def write_inertia_plane(output_stream, satellite_data, center_data, unit_vector=[0,0,1], randomize=False):\n",
    "    # inertia tensor\n",
    "    x_pos = satellite_data['x'] \n",
    "    y_pos = satellite_data['y'] \n",
    "    z_pos = satellite_data['z'] \n",
    "\n",
    "    values, vec_a, center, width = inertiaTensor(x_pos, y_pos, z_pos, randomize=randomize)\n",
    "    \n",
    "    output_stream.write(\"{:.2e}  {:.2e}  {:.2e}\\t\".format(np.sqrt(values[0])/np.sqrt(values[2]), \n",
    "                                                          np.sqrt(values[1])/np.sqrt(values[2]), \n",
    "                                                          np.sqrt(values[2])))\n",
    "    mu_I = 0\n",
    "    for i in range(3):\n",
    "        mu_I += vec_a[i]* unit_vector[i]\n",
    "        \n",
    "    output_stream.write(\"{:.4f} {:.4f} {:.4f}\\t\".format(center, width, np.abs(mu_I)))\n",
    "    return\n",
    "    \n",
    "\n",
    "def write_center_info(output_stream, center_A, center_B):\n",
    "    #distance between halos in kpc/h and vector connecting the two halos\n",
    "    r_AB = np.ones(3)\n",
    "    r_AB[0] = center_A['x'] - center_B['x']\n",
    "    r_AB[1] = center_A['y'] - center_B['y']\n",
    "    r_AB[2] = center_A['z'] - center_B['z']\n",
    "    d_AB =  np.sqrt(np.sum(r_AB**2))\n",
    "    r_AB = r_AB/d_AB\n",
    "    return r_AB"
   ]
  },
  {
   "cell_type": "code",
   "execution_count": 183,
   "metadata": {
    "collapsed": false
   },
   "outputs": [],
   "source": [
    "def make_LG_stats(n_sat_max=3, n_random=1000, data_path = \"../data/mstar_selected/\", output_path = \"../data/obs_summary/\"):\n",
    "    MW_data = load_obs(\"../data/obs/MW_satellites.txt\")\n",
    "    M31_data = load_obs(\"../data/obs/M31_satellites.txt\")\n",
    "    \n",
    "    M31 = main_halos(M31_data, sort_column='vmag', single_reverse=True)\n",
    "    MW = main_halos(MW_data, sort_column='vmag', single_reverse=True)\n",
    "    \n",
    "    satellite_data_A, min_r_M31, max_r_M31 = satellite_halos(M31_data, M31, vmax=vmax_M31, max_points=n_sat_max)\n",
    "    satellite_data_B, min_r_MW, max_r_MW = satellite_halos(MW_data, MW, vmax=vmax_MW, max_points=n_sat_max)\n",
    " \n",
    "    #number of bright satellites\n",
    "    N_A = len(satellite_data_A)\n",
    "    N_B = len(satellite_data_B)\n",
    "\n",
    "    # bright satellites\n",
    "    print('N bright:!', N_A, N_B)\n",
    "    \n",
    "    output_A = open(os.path.join(output_path, \"halo_M31_nmax_{}.dat\".format(n_sat_max)), \"w\")\n",
    "    output_B = open(os.path.join(output_path, \"halo_MW_nmax_{}.dat\".format(n_sat_max)), \"w\")\n",
    "\n",
    "    #minimum and maximum radius for the satellites\n",
    "    output_A.write(\"{:2f} {:2f}\\t\".format(min_r_M31, max_r_M31))\n",
    "    output_B.write(\"{:2f} {:2f}\\t\".format(min_r_MW, max_r_MW))\n",
    "\n",
    "    r_AB = write_center_info(output_A, M31, MW)\n",
    "    r_AB = write_center_info(output_B, M31, MW)\n",
    "    write_inertia_plane(output_A, satellite_data_A, M31, unit_vector=r_AB, randomize=False)\n",
    "    write_inertia_plane(output_B, satellite_data_B, MW, unit_vector=r_AB, randomize=False)\n",
    "    output_A.write(\"\\n\")\n",
    "    output_B.write(\"\\n\")\n",
    "    \n",
    "    for i in range(n_random):\n",
    "        output_A.write(\"{:2f} {:2f}\\t\".format(min_r_M31, max_r_M31))\n",
    "        output_B.write(\"{:2f} {:2f}\\t\".format(min_r_MW, max_r_MW))\n",
    "        r_AB = write_center_info(output_A, M31, MW)\n",
    "        r_AB = write_center_info(output_B, M31, MW)\n",
    "        write_inertia_plane(output_A, satellite_data_A, M31, unit_vector=r_AB, randomize=True)\n",
    "        write_inertia_plane(output_B, satellite_data_B, MW, unit_vector=r_AB, randomize=True)\n",
    "\n",
    "        output_A.write(\"\\n\")\n",
    "        output_B.write(\"\\n\")\n",
    "\n",
    "    output_A.close()\n",
    "    output_B.close()"
   ]
  },
  {
   "cell_type": "code",
   "execution_count": 184,
   "metadata": {
    "collapsed": true
   },
   "outputs": [],
   "source": [
    "def make_illustris_stats(group_id=0, n_sat_max=3, n_sat_min=15, n_random=1000, \n",
    "                         data_path = \"../data/mstar_selected/\", output_path = \"../data/mstar_selected_summary/\"):\n",
    "    LG_data = load_snapshot(os.path.join(data_path, \"Illustris_group_{}.dat\".format(group_id)))\n",
    "    M31, MW = main_halos(LG_data, sort_column='mstar', single_reverse=False)\n",
    "    #print(M31)\n",
    "    #print(MW)\n",
    "   \n",
    "    # check that we have at least n_sat_min satellites to choose from\n",
    "    satellite_data_A, min_r_M31, max_r_M31 = satellite_halos(LG_data, M31, sort_column='vmax',\n",
    "                                                             vmax=M31['vmax'], max_points=n_sat_min)\n",
    "    satellite_data_B, min_r_MW, max_r_MW = satellite_halos(LG_data, MW, sort_column='vmax',\n",
    "                                                           vmax=MW['vmax'], max_points=n_sat_min)\n",
    "    N_A = len(satellite_data_A)\n",
    "    N_B = len(satellite_data_B)\n",
    "\n",
    "    if((N_A!=n_sat_min) | (N_B!=n_sat_min)):\n",
    "        print('First check Groupid, N bright:!', group_id, N_A, N_B)\n",
    "        return\n",
    "    \n",
    "    satellite_data_A, min_r_M31, max_r_M31 = satellite_halos(LG_data, M31, sort_column='vmax',\n",
    "                                                             vmax=M31['vmax'], max_points=n_sat_max)\n",
    "    satellite_data_B, min_r_MW, max_r_MW = satellite_halos(LG_data, MW, sort_column='vmax',\n",
    "                                                           vmax=MW['vmax'], max_points=n_sat_max)\n",
    " \n",
    "    #number of bright satellites\n",
    "    N_A = len(satellite_data_A)\n",
    "    N_B = len(satellite_data_B)\n",
    "\n",
    "    # bright satellites\n",
    "    print('Groupid, N bright:!', group_id, N_A, N_B)\n",
    "    \n",
    "    output_A = open(os.path.join(output_path, \"Illustris_M31_group_{}_nmax_{}.dat\".format(group_id, n_sat_max)), \"w\")\n",
    "    output_B = open(os.path.join(output_path, \"Illustris_MW_group_{}_nmax_{}.dat\".format(group_id, n_sat_max)), \"w\")\n",
    "\n",
    "    #minimum and maximum radius for the satellites\n",
    "    output_A.write(\"{:2f} {:2f}\\t\".format(min_r_M31, max_r_M31))\n",
    "    output_B.write(\"{:2f} {:2f}\\t\".format(min_r_MW, max_r_MW))\n",
    "\n",
    "    r_AB = write_center_info(output_A, M31, MW)\n",
    "    r_AB = write_center_info(output_B, M31, MW)\n",
    "    write_inertia_plane(output_A, satellite_data_A, M31, unit_vector=r_AB, randomize=False)\n",
    "    write_inertia_plane(output_B, satellite_data_B, MW, unit_vector=r_AB, randomize=False)\n",
    "    output_A.write(\"\\n\")\n",
    "    output_B.write(\"\\n\")\n",
    "    \n",
    "    for i in range(n_random):\n",
    "        output_A.write(\"{:2f} {:2f}\\t\".format(min_r_M31, max_r_M31))\n",
    "        output_B.write(\"{:2f} {:2f}\\t\".format(min_r_MW, max_r_MW))\n",
    "        r_AB = write_center_info(output_A, M31, MW)\n",
    "        r_AB = write_center_info(output_B, M31, MW)\n",
    "        write_inertia_plane(output_A, satellite_data_A, M31, unit_vector=r_AB, randomize=True)\n",
    "        write_inertia_plane(output_B, satellite_data_B, MW, unit_vector=r_AB, randomize=True)\n",
    "\n",
    "        output_A.write(\"\\n\")\n",
    "        output_B.write(\"\\n\")\n",
    "\n",
    "    output_A.close()\n",
    "    output_B.close()"
   ]
  },
  {
   "cell_type": "code",
   "execution_count": 200,
   "metadata": {
    "collapsed": false
   },
   "outputs": [
    {
     "name": "stdout",
     "output_type": "stream",
     "text": [
      "radius 300\n",
      "radius 300\n",
      "N bright:! 11 11\n",
      "radius 300\n",
      "radius 300\n",
      "N bright:! 12 12\n",
      "radius 300\n",
      "radius 300\n",
      "N bright:! 13 13\n",
      "radius 300\n",
      "radius 300\n",
      "N bright:! 14 14\n",
      "radius 300\n",
      "radius 300\n",
      "N bright:! 15 15\n"
     ]
    }
   ],
   "source": [
    "for i in range(11,16):\n",
    "    make_LG_stats(n_sat_max=i, n_random=10000)"
   ]
  },
  {
   "cell_type": "code",
   "execution_count": 186,
   "metadata": {
    "collapsed": false
   },
   "outputs": [
    {
     "name": "stdout",
     "output_type": "stream",
     "text": [
      "radius 300\n",
      "radius 300\n",
      "radius 300\n",
      "radius 300\n",
      "Groupid, N bright:! 0 11 11\n",
      "radius 300\n",
      "radius 300\n",
      "radius 300\n",
      "radius 300\n",
      "Groupid, N bright:! 1 11 11\n",
      "radius 300\n",
      "radius 300\n",
      "radius 300\n",
      "radius 300\n",
      "Groupid, N bright:! 2 11 11\n",
      "radius 300\n",
      "radius 300\n",
      "radius 300\n",
      "radius 300\n",
      "Groupid, N bright:! 3 11 11\n",
      "radius 300\n",
      "radius 300\n",
      "radius 300\n",
      "radius 300\n",
      "Groupid, N bright:! 4 11 11\n",
      "radius 300\n",
      "radius 300\n",
      "radius 300\n",
      "radius 300\n",
      "Groupid, N bright:! 5 11 11\n",
      "radius 300\n",
      "radius 300\n",
      "radius 300\n",
      "radius 300\n",
      "Groupid, N bright:! 6 11 11\n",
      "radius 300\n",
      "radius 300\n",
      "First check Groupid, N bright:! 7 15 14\n",
      "radius 300\n",
      "radius 300\n",
      "radius 300\n",
      "radius 300\n",
      "Groupid, N bright:! 8 11 11\n",
      "radius 300\n",
      "radius 300\n",
      "radius 300\n",
      "radius 300\n",
      "Groupid, N bright:! 9 11 11\n",
      "radius 300\n",
      "radius 300\n",
      "radius 300\n",
      "radius 300\n",
      "Groupid, N bright:! 10 11 11\n",
      "radius 300\n",
      "radius 300\n",
      "radius 300\n",
      "radius 300\n",
      "Groupid, N bright:! 11 11 11\n",
      "radius 300\n",
      "radius 300\n",
      "First check Groupid, N bright:! 12 15 10\n",
      "radius 300\n",
      "radius 300\n",
      "radius 300\n",
      "radius 300\n",
      "Groupid, N bright:! 13 11 11\n",
      "radius 300\n",
      "radius 300\n",
      "radius 300\n",
      "radius 300\n",
      "Groupid, N bright:! 14 11 11\n",
      "radius 300\n",
      "radius 300\n",
      "First check Groupid, N bright:! 15 15 8\n",
      "radius 300\n",
      "radius 300\n",
      "radius 300\n",
      "radius 300\n",
      "Groupid, N bright:! 16 11 11\n",
      "radius 300\n",
      "radius 300\n",
      "First check Groupid, N bright:! 17 15 12\n",
      "radius 300\n",
      "radius 300\n",
      "radius 300\n",
      "radius 300\n",
      "Groupid, N bright:! 18 11 11\n",
      "radius 300\n",
      "radius 300\n",
      "First check Groupid, N bright:! 19 15 7\n",
      "radius 300\n",
      "radius 300\n",
      "radius 300\n",
      "radius 300\n",
      "Groupid, N bright:! 20 11 11\n",
      "radius 300\n",
      "radius 300\n",
      "radius 300\n",
      "radius 300\n",
      "Groupid, N bright:! 21 11 11\n",
      "radius 300\n",
      "radius 300\n",
      "radius 300\n",
      "radius 300\n",
      "Groupid, N bright:! 22 11 11\n",
      "radius 300\n",
      "radius 300\n",
      "First check Groupid, N bright:! 23 13 15\n",
      "radius 300\n",
      "radius 300\n",
      "radius 300\n",
      "radius 300\n",
      "Groupid, N bright:! 24 11 11\n",
      "radius 300\n",
      "radius 300\n",
      "radius 300\n",
      "radius 300\n",
      "Groupid, N bright:! 25 11 11\n",
      "radius 300\n",
      "radius 300\n",
      "First check Groupid, N bright:! 26 15 9\n",
      "radius 300\n",
      "radius 300\n",
      "radius 300\n",
      "radius 300\n",
      "Groupid, N bright:! 0 12 12\n",
      "radius 300\n",
      "radius 300\n",
      "radius 300\n",
      "radius 300\n",
      "Groupid, N bright:! 1 12 12\n",
      "radius 300\n",
      "radius 300\n",
      "radius 300\n",
      "radius 300\n",
      "Groupid, N bright:! 2 12 12\n",
      "radius 300\n",
      "radius 300\n",
      "radius 300\n",
      "radius 300\n",
      "Groupid, N bright:! 3 12 12\n",
      "radius 300\n",
      "radius 300\n",
      "radius 300\n",
      "radius 300\n",
      "Groupid, N bright:! 4 12 12\n",
      "radius 300\n",
      "radius 300\n",
      "radius 300\n",
      "radius 300\n",
      "Groupid, N bright:! 5 12 12\n",
      "radius 300\n",
      "radius 300\n",
      "radius 300\n",
      "radius 300\n",
      "Groupid, N bright:! 6 12 12\n",
      "radius 300\n",
      "radius 300\n",
      "First check Groupid, N bright:! 7 15 14\n",
      "radius 300\n",
      "radius 300\n",
      "radius 300\n",
      "radius 300\n",
      "Groupid, N bright:! 8 12 12\n",
      "radius 300\n",
      "radius 300\n",
      "radius 300\n",
      "radius 300\n",
      "Groupid, N bright:! 9 12 12\n",
      "radius 300\n",
      "radius 300\n",
      "radius 300\n",
      "radius 300\n",
      "Groupid, N bright:! 10 12 12\n",
      "radius 300\n",
      "radius 300\n",
      "radius 300\n",
      "radius 300\n",
      "Groupid, N bright:! 11 12 12\n",
      "radius 300\n",
      "radius 300\n",
      "First check Groupid, N bright:! 12 15 10\n",
      "radius 300\n",
      "radius 300\n",
      "radius 300\n",
      "radius 300\n",
      "Groupid, N bright:! 13 12 12\n",
      "radius 300\n",
      "radius 300\n",
      "radius 300\n",
      "radius 300\n",
      "Groupid, N bright:! 14 12 12\n",
      "radius 300\n",
      "radius 300\n",
      "First check Groupid, N bright:! 15 15 8\n",
      "radius 300\n",
      "radius 300\n",
      "radius 300\n",
      "radius 300\n",
      "Groupid, N bright:! 16 12 12\n",
      "radius 300\n",
      "radius 300\n",
      "First check Groupid, N bright:! 17 15 12\n",
      "radius 300\n",
      "radius 300\n",
      "radius 300\n",
      "radius 300\n",
      "Groupid, N bright:! 18 12 12\n",
      "radius 300\n",
      "radius 300\n",
      "First check Groupid, N bright:! 19 15 7\n",
      "radius 300\n",
      "radius 300\n",
      "radius 300\n",
      "radius 300\n",
      "Groupid, N bright:! 20 12 12\n",
      "radius 300\n",
      "radius 300\n",
      "radius 300\n",
      "radius 300\n",
      "Groupid, N bright:! 21 12 12\n",
      "radius 300\n",
      "radius 300\n",
      "radius 300\n",
      "radius 300\n",
      "Groupid, N bright:! 22 12 12\n",
      "radius 300\n",
      "radius 300\n",
      "First check Groupid, N bright:! 23 13 15\n",
      "radius 300\n",
      "radius 300\n",
      "radius 300\n",
      "radius 300\n",
      "Groupid, N bright:! 24 12 12\n",
      "radius 300\n",
      "radius 300\n",
      "radius 300\n",
      "radius 300\n",
      "Groupid, N bright:! 25 12 12\n",
      "radius 300\n",
      "radius 300\n",
      "First check Groupid, N bright:! 26 15 9\n",
      "radius 300\n",
      "radius 300\n",
      "radius 300\n",
      "radius 300\n",
      "Groupid, N bright:! 0 13 13\n",
      "radius 300\n",
      "radius 300\n",
      "radius 300\n",
      "radius 300\n",
      "Groupid, N bright:! 1 13 13\n",
      "radius 300\n",
      "radius 300\n",
      "radius 300\n",
      "radius 300\n",
      "Groupid, N bright:! 2 13 13\n",
      "radius 300\n",
      "radius 300\n",
      "radius 300\n",
      "radius 300\n",
      "Groupid, N bright:! 3 13 13\n",
      "radius 300\n",
      "radius 300\n",
      "radius 300\n",
      "radius 300\n",
      "Groupid, N bright:! 4 13 13\n",
      "radius 300\n",
      "radius 300\n",
      "radius 300\n",
      "radius 300\n",
      "Groupid, N bright:! 5 13 13\n",
      "radius 300\n",
      "radius 300\n",
      "radius 300\n",
      "radius 300\n",
      "Groupid, N bright:! 6 13 13\n",
      "radius 300\n",
      "radius 300\n",
      "First check Groupid, N bright:! 7 15 14\n",
      "radius 300\n",
      "radius 300\n",
      "radius 300\n",
      "radius 300\n",
      "Groupid, N bright:! 8 13 13\n",
      "radius 300\n",
      "radius 300\n",
      "radius 300\n",
      "radius 300\n",
      "Groupid, N bright:! 9 13 13\n",
      "radius 300\n",
      "radius 300\n",
      "radius 300\n",
      "radius 300\n",
      "Groupid, N bright:! 10 13 13\n",
      "radius 300\n",
      "radius 300\n",
      "radius 300\n",
      "radius 300\n",
      "Groupid, N bright:! 11 13 13\n",
      "radius 300\n",
      "radius 300\n",
      "First check Groupid, N bright:! 12 15 10\n",
      "radius 300\n",
      "radius 300\n",
      "radius 300\n",
      "radius 300\n",
      "Groupid, N bright:! 13 13 13\n",
      "radius 300\n",
      "radius 300\n",
      "radius 300\n",
      "radius 300\n",
      "Groupid, N bright:! 14 13 13\n",
      "radius 300\n",
      "radius 300\n",
      "First check Groupid, N bright:! 15 15 8\n",
      "radius 300\n",
      "radius 300\n",
      "radius 300\n",
      "radius 300\n",
      "Groupid, N bright:! 16 13 13\n",
      "radius 300\n",
      "radius 300\n",
      "First check Groupid, N bright:! 17 15 12\n",
      "radius 300\n",
      "radius 300\n",
      "radius 300\n",
      "radius 300\n",
      "Groupid, N bright:! 18 13 13\n",
      "radius 300\n",
      "radius 300\n",
      "First check Groupid, N bright:! 19 15 7\n",
      "radius 300\n",
      "radius 300\n",
      "radius 300\n",
      "radius 300\n",
      "Groupid, N bright:! 20 13 13\n",
      "radius 300\n",
      "radius 300\n",
      "radius 300\n",
      "radius 300\n",
      "Groupid, N bright:! 21 13 13\n",
      "radius 300\n",
      "radius 300\n",
      "radius 300\n",
      "radius 300\n",
      "Groupid, N bright:! 22 13 13\n",
      "radius 300\n",
      "radius 300\n",
      "First check Groupid, N bright:! 23 13 15\n",
      "radius 300\n",
      "radius 300\n",
      "radius 300\n",
      "radius 300\n",
      "Groupid, N bright:! 24 13 13\n",
      "radius 300\n",
      "radius 300\n",
      "radius 300\n",
      "radius 300\n",
      "Groupid, N bright:! 25 13 13\n",
      "radius 300\n",
      "radius 300\n",
      "First check Groupid, N bright:! 26 15 9\n",
      "radius 300\n",
      "radius 300\n",
      "radius 300\n",
      "radius 300\n",
      "Groupid, N bright:! 0 14 14\n",
      "radius 300\n",
      "radius 300\n",
      "radius 300\n",
      "radius 300\n",
      "Groupid, N bright:! 1 14 14\n",
      "radius 300\n",
      "radius 300\n",
      "radius 300\n",
      "radius 300\n",
      "Groupid, N bright:! 2 14 14\n",
      "radius 300\n",
      "radius 300\n",
      "radius 300\n",
      "radius 300\n",
      "Groupid, N bright:! 3 14 14\n",
      "radius 300\n",
      "radius 300\n",
      "radius 300\n",
      "radius 300\n",
      "Groupid, N bright:! 4 14 14\n",
      "radius 300\n",
      "radius 300\n",
      "radius 300\n",
      "radius 300\n",
      "Groupid, N bright:! 5 14 14\n",
      "radius 300\n",
      "radius 300\n",
      "radius 300\n",
      "radius 300\n",
      "Groupid, N bright:! 6 14 14\n",
      "radius 300\n",
      "radius 300\n",
      "First check Groupid, N bright:! 7 15 14\n",
      "radius 300\n",
      "radius 300\n",
      "radius 300\n",
      "radius 300\n",
      "Groupid, N bright:! 8 14 14\n",
      "radius 300\n",
      "radius 300\n",
      "radius 300\n",
      "radius 300\n",
      "Groupid, N bright:! 9 14 14\n",
      "radius 300\n",
      "radius 300\n",
      "radius 300\n",
      "radius 300\n",
      "Groupid, N bright:! 10 14 14\n",
      "radius 300\n",
      "radius 300\n",
      "radius 300\n",
      "radius 300\n",
      "Groupid, N bright:! 11 14 14\n",
      "radius 300\n",
      "radius 300\n",
      "First check Groupid, N bright:! 12 15 10\n",
      "radius 300\n",
      "radius 300\n",
      "radius 300\n",
      "radius 300\n",
      "Groupid, N bright:! 13 14 14\n",
      "radius 300\n",
      "radius 300\n",
      "radius 300\n",
      "radius 300\n",
      "Groupid, N bright:! 14 14 14\n",
      "radius 300\n",
      "radius 300\n",
      "First check Groupid, N bright:! 15 15 8\n",
      "radius 300\n",
      "radius 300\n",
      "radius 300\n",
      "radius 300\n",
      "Groupid, N bright:! 16 14 14\n",
      "radius 300\n",
      "radius 300\n",
      "First check Groupid, N bright:! 17 15 12\n",
      "radius 300\n",
      "radius 300\n",
      "radius 300\n",
      "radius 300\n",
      "Groupid, N bright:! 18 14 14\n",
      "radius 300\n",
      "radius 300\n",
      "First check Groupid, N bright:! 19 15 7\n",
      "radius 300\n",
      "radius 300\n",
      "radius 300\n",
      "radius 300\n",
      "Groupid, N bright:! 20 14 14\n",
      "radius 300\n",
      "radius 300\n",
      "radius 300\n",
      "radius 300\n",
      "Groupid, N bright:! 21 14 14\n",
      "radius 300\n",
      "radius 300\n",
      "radius 300\n",
      "radius 300\n",
      "Groupid, N bright:! 22 14 14\n",
      "radius 300\n",
      "radius 300\n",
      "First check Groupid, N bright:! 23 13 15\n",
      "radius 300\n",
      "radius 300\n",
      "radius 300\n",
      "radius 300\n",
      "Groupid, N bright:! 24 14 14\n",
      "radius 300\n",
      "radius 300\n",
      "radius 300\n",
      "radius 300\n",
      "Groupid, N bright:! 25 14 14\n",
      "radius 300\n",
      "radius 300\n",
      "First check Groupid, N bright:! 26 15 9\n",
      "radius 300\n",
      "radius 300\n",
      "radius 300\n",
      "radius 300\n",
      "Groupid, N bright:! 0 15 15\n",
      "radius 300\n",
      "radius 300\n",
      "radius 300\n",
      "radius 300\n",
      "Groupid, N bright:! 1 15 15\n",
      "radius 300\n",
      "radius 300\n",
      "radius 300\n",
      "radius 300\n",
      "Groupid, N bright:! 2 15 15\n",
      "radius 300\n",
      "radius 300\n",
      "radius 300\n",
      "radius 300\n",
      "Groupid, N bright:! 3 15 15\n",
      "radius 300\n",
      "radius 300\n",
      "radius 300\n",
      "radius 300\n",
      "Groupid, N bright:! 4 15 15\n",
      "radius 300\n",
      "radius 300\n",
      "radius 300\n",
      "radius 300\n",
      "Groupid, N bright:! 5 15 15\n",
      "radius 300\n",
      "radius 300\n",
      "radius 300\n",
      "radius 300\n",
      "Groupid, N bright:! 6 15 15\n",
      "radius 300\n",
      "radius 300\n",
      "First check Groupid, N bright:! 7 15 14\n",
      "radius 300\n",
      "radius 300\n",
      "radius 300\n",
      "radius 300\n",
      "Groupid, N bright:! 8 15 15\n",
      "radius 300\n",
      "radius 300\n",
      "radius 300\n",
      "radius 300\n",
      "Groupid, N bright:! 9 15 15\n",
      "radius 300\n",
      "radius 300\n",
      "radius 300\n",
      "radius 300\n",
      "Groupid, N bright:! 10 15 15\n",
      "radius 300\n",
      "radius 300\n",
      "radius 300\n",
      "radius 300\n",
      "Groupid, N bright:! 11 15 15\n",
      "radius 300\n",
      "radius 300\n",
      "First check Groupid, N bright:! 12 15 10\n",
      "radius 300\n",
      "radius 300\n",
      "radius 300\n",
      "radius 300\n",
      "Groupid, N bright:! 13 15 15\n",
      "radius 300\n",
      "radius 300\n",
      "radius 300\n",
      "radius 300\n",
      "Groupid, N bright:! 14 15 15\n",
      "radius 300\n",
      "radius 300\n",
      "First check Groupid, N bright:! 15 15 8\n",
      "radius 300\n",
      "radius 300\n",
      "radius 300\n",
      "radius 300\n",
      "Groupid, N bright:! 16 15 15\n",
      "radius 300\n",
      "radius 300\n",
      "First check Groupid, N bright:! 17 15 12\n",
      "radius 300\n",
      "radius 300\n",
      "radius 300\n",
      "radius 300\n",
      "Groupid, N bright:! 18 15 15\n",
      "radius 300\n",
      "radius 300\n",
      "First check Groupid, N bright:! 19 15 7\n",
      "radius 300\n",
      "radius 300\n",
      "radius 300\n",
      "radius 300\n",
      "Groupid, N bright:! 20 15 15\n",
      "radius 300\n",
      "radius 300\n",
      "radius 300\n",
      "radius 300\n",
      "Groupid, N bright:! 21 15 15\n",
      "radius 300\n",
      "radius 300\n",
      "radius 300\n",
      "radius 300\n",
      "Groupid, N bright:! 22 15 15\n",
      "radius 300\n",
      "radius 300\n",
      "First check Groupid, N bright:! 23 13 15\n",
      "radius 300\n",
      "radius 300\n",
      "radius 300\n",
      "radius 300\n",
      "Groupid, N bright:! 24 15 15\n",
      "radius 300\n",
      "radius 300\n",
      "radius 300\n",
      "radius 300\n",
      "Groupid, N bright:! 25 15 15\n",
      "radius 300\n",
      "radius 300\n",
      "First check Groupid, N bright:! 26 15 9\n"
     ]
    }
   ],
   "source": [
    "for i in range(11,16):\n",
    "    for j in range(27):\n",
    "        make_illustris_stats(group_id=j, n_sat_max=i, n_random=1000)"
   ]
  },
  {
   "cell_type": "code",
   "execution_count": 190,
   "metadata": {
    "collapsed": false
   },
   "outputs": [
    {
     "name": "stdout",
     "output_type": "stream",
     "text": [
      "[0, 10, 11, 13, 14, 16, 18, 1, 20, 21, 22, 24, 25, 2, 3, 4, 5, 6, 8, 9] 20\n"
     ]
    }
   ],
   "source": [
    "files = glob.glob(\"../data/mstar_selected_summary/Illustris_M31_group_*\")\n",
    "group_id = []\n",
    "for f in files:\n",
    "    i = int(f.split(\"_\")[-3])\n",
    "    if i not in group_id:\n",
    "        group_id.append(i)\n",
    "print(group_id, len(group_id))"
   ]
  },
  {
   "cell_type": "code",
   "execution_count": 311,
   "metadata": {
    "collapsed": false
   },
   "outputs": [],
   "source": [
    "n_groups = len(group_id)\n",
    "\n",
    "fields = ['width','mu', 'a', 'ba_ratio', 'ca_ratio']\n",
    "M31_all = {}\n",
    "MW_all = {}\n",
    "\n",
    "for field in fields:\n",
    "    M31_all[field] = np.ones(n_groups)\n",
    "    MW_all[field] = np.ones(n_groups)\n",
    "    M31_all[field+'_random'] = np.ones(n_groups)\n",
    "    MW_all[field+'_random'] = np.ones(n_groups)\n",
    "    M31_all[field+'_random_sigma'] = np.ones(n_groups)\n",
    "    MW_all[field+'_random_sigma'] = np.ones(n_groups)\n",
    "    M31_all[field+'_sigma'] = np.ones(n_groups)\n",
    "    MW_all[field+'_sigma'] = np.ones(n_groups)\n",
    "\n",
    "for g in range(n_groups):\n",
    "    n_sat = np.arange(11,16)\n",
    "    MW_summary = {}\n",
    "    M31_summary = {}\n",
    "    \n",
    "    for i in n_sat:\n",
    "        filename_MW = \"../data/mstar_selected_summary/Illustris_MW_group_{}_nmax_{}.dat\".format(group_id[g], i)\n",
    "        MW_summary[i] = load_summary(filename_MW)\n",
    "        filename_M31 = \"../data/mstar_selected_summary/Illustris_M31_group_{}_nmax_{}.dat\".format(group_id[g], i)\n",
    "        M31_summary[i] = load_summary(filename_M31)\n",
    "    \n",
    "    field = 'width'\n",
    "    for field in fields:\n",
    "        a = []\n",
    "        b = []\n",
    "        a_random = []\n",
    "        b_random = []\n",
    "        for i in n_sat:\n",
    "            data = M31_summary[i]\n",
    "            a.append(data[field][0])\n",
    "            a_random.append(data[field][1:])\n",
    "        \n",
    "            data = MW_summary[i]\n",
    "            b.append(data[field][0])\n",
    "            b_random.append(data[field][1:])\n",
    "    \n",
    "        M31_all[field][g] = np.average(a)\n",
    "        MW_all[field][g] = np.average(b)\n",
    "        M31_all[field+'_sigma'][g] = np.std(a)\n",
    "        MW_all[field+'_sigma'][g] = np.std(b)\n",
    "        M31_all[field+'_random'][g] = np.average(a_random)\n",
    "        MW_all[field+'_random'][g] = np.average(b_random)\n",
    "        M31_all[field+'_random_sigma'][g] = np.std(a_random)\n",
    "        MW_all[field+'_random_sigma'][g] = np.std(b_random)\n",
    "\n",
    "#    column = 0\n",
    "#    M31_obs_mu_plane[i] = np.abs(data_M31[0,column])\n",
    "#    n_items = len(n_sat)\n",
    "    "
   ]
  },
  {
   "cell_type": "code",
   "execution_count": 312,
   "metadata": {
    "collapsed": false
   },
   "outputs": [
    {
     "data": {
      "text/plain": [
       "<Container object of 3 artists>"
      ]
     },
     "execution_count": 312,
     "metadata": {},
     "output_type": "execute_result"
    },
    {
     "data": {
      "image/png": "[encoded data removed]",
      "text/plain": [
       "<matplotlib.figure.Figure at 0x1221494a8>"
      ]
     },
     "metadata": {},
     "output_type": "display_data"
    }
   ],
   "source": [
    "#plt.scatter(M31_all['width']/M31_all['width_random'], MW_all['width']/MW_all['width_random'])\n",
    "plt.errorbar(M31_all['width'], MW_all['width'],\n",
    "             xerr=M31_all['width_sigma'], yerr=MW_all['width_sigma'], fmt='o')\n",
    "#x = np.linspace(0.6,1.3,20)\n",
    "#plt.plot(x,x)"
   ]
  },
  {
   "cell_type": "code",
   "execution_count": 416,
   "metadata": {
    "collapsed": false
   },
   "outputs": [
    {
     "name": "stdout",
     "output_type": "stream",
     "text": [
      "4.30745101812\n"
     ]
    },
    {
     "data": {
      "text/plain": [
       "[<matplotlib.lines.Line2D at 0x128d61828>]"
      ]
     },
     "execution_count": 416,
     "metadata": {},
     "output_type": "execute_result"
    },
    {
     "data": {
      "image/png": "[encoded data removed]",
      "text/plain": [
       "<matplotlib.figure.Figure at 0x128ebe278>"
      ]
     },
     "metadata": {},
     "output_type": "display_data"
    }
   ],
   "source": [
    "field = 'width_random'\n",
    "def p(x,mean,sigma):\n",
    "    return -0.5*((x-mean)/sigma)**2.0\n",
    "\n",
    "n_alpha = 1000\n",
    "alpha = np.linspace(67, 90.0, n_alpha)\n",
    "p_alpha_data_M31 = np.zeros(n_alpha)\n",
    "p_alpha_data_MW = np.zeros(n_alpha)\n",
    "n_points =  len(M31_all[field])\n",
    "for i in range(n_alpha):\n",
    "    for j in range(n_points):\n",
    "        p_alpha_data_M31[i] += p(M31_all[field][j], alpha[i], M31_all[field].std())\n",
    "        p_alpha_data_MW[i] += p(MW_all[field][j], alpha[i], MW_all[field].std())\n",
    "p_alpha_data_M31 = np.exp(p_alpha_data_M31 - p_alpha_data_M31.max())\n",
    "p_alpha_data_MW = np.exp(p_alpha_data_MW - p_alpha_data_MW.max())\n",
    "norm_M31 = np.trapz(p_alpha_data_M31, x=alpha)\n",
    "norm_MW = np.trapz(p_alpha_data_MW, x=alpha)\n",
    "print(norm_M31)\n",
    "plt.plot(alpha, p_alpha_data_M31/norm_M31)\n",
    "plt.plot(alpha, p_alpha_data_MW/norm_MW)"
   ]
  },
  {
   "cell_type": "code",
   "execution_count": 211,
   "metadata": {
    "collapsed": false
   },
   "outputs": [
    {
     "data": {
      "text/plain": [
       "<Container object of 3 artists>"
      ]
     },
     "execution_count": 211,
     "metadata": {},
     "output_type": "execute_result"
    },
    {
     "data": {
      "image/png": "[encoded data removed]",
      "text/plain": [
       "<matplotlib.figure.Figure at 0x11e599da0>"
      ]
     },
     "metadata": {},
     "output_type": "display_data"
    }
   ],
   "source": [
    "#plt.scatter(M31_all['width']/M31_all['width_random'], MW_all['width']/MW_all['width_random'])\n",
    "plt.errorbar(M31_all['width_random'], MW_all['width_random'],\n",
    "             xerr=M31_all['width_random_sigma'], yerr=MW_all['width_random_sigma'], fmt='o')\n",
    "#x = np.linspace(0.6,1.3,20)\n",
    "#plt.plot(x,x)"
   ]
  },
  {
   "cell_type": "code",
   "execution_count": null,
   "metadata": {
    "collapsed": true
   },
   "outputs": [],
   "source": []
  },
  {
   "cell_type": "code",
   "execution_count": 219,
   "metadata": {
    "collapsed": false
   },
   "outputs": [
    {
     "data": {
      "text/plain": [
       "[<matplotlib.lines.Line2D at 0x11ed0a518>]"
      ]
     },
     "execution_count": 219,
     "metadata": {},
     "output_type": "execute_result"
    },
    {
     "data": {
      "image/png": "[encoded data removed]",
      "text/plain": [
       "<matplotlib.figure.Figure at 0x11ead99b0>"
      ]
     },
     "metadata": {},
     "output_type": "display_data"
    }
   ],
   "source": [
    "ratio_M31 = M31_all['width']/M31_all['width_random']\n",
    "ratio_MW = MW_all['width']/MW_all['width_random']\n",
    "\n",
    "xerr =  (M31_all['width_sigma']/M31_all['width'])**2 \n",
    "xerr += (M31_all['width_random_sigma']/M31_all['width_random'])**2 \n",
    "xerr += -2.0*(M31_all['width_sigma']/M31_all['width'])* (M31_all['width_random_sigma']/M31_all['width_random'])   \n",
    "xerr = ratio_M31 * np.sqrt(xerr)\n",
    "yerr =  (MW_all['width_sigma']/MW_all['width'])**2 \n",
    "yerr += (MW_all['width_random_sigma']/MW_all['width_random'])**2 \n",
    "yerr += -2.0*(MW_all['width_sigma']/MW_all['width'])* (MW_all['width_random_sigma']/MW_all['width_random'])   \n",
    "yerr = ratio_MW * np.sqrt(yerr)\n",
    "#plt.scatter(M31_all['width']/M31_all['width_random'], MW_all['width']/MW_all['width_random'])\n",
    "plt.errorbar(ratio_M31, ratio_MW,\n",
    "             xerr=xerr, yerr=yerr, fmt='o')\n",
    "x = np.linspace(0.6,1.3,20)\n",
    "plt.plot(x,x)"
   ]
  },
  {
   "cell_type": "code",
   "execution_count": 356,
   "metadata": {
    "collapsed": false
   },
   "outputs": [
    {
     "name": "stdout",
     "output_type": "stream",
     "text": [
      "0.171302640654\n"
     ]
    },
    {
     "data": {
      "text/plain": [
       "[<matplotlib.lines.Line2D at 0x123cf09b0>]"
      ]
     },
     "execution_count": 356,
     "metadata": {},
     "output_type": "execute_result"
    },
    {
     "data": {
      "image/png": "[encoded data removed]",
      "text/plain": [
       "<matplotlib.figure.Figure at 0x1201cde10>"
      ]
     },
     "metadata": {},
     "output_type": "display_data"
    }
   ],
   "source": [
    "def p(x,mean,sigma):\n",
    "    return -(x-mean)**2.0/(2.0*sigma)\n",
    "\n",
    "n_alpha = 100\n",
    "alpha = np.linspace(0.7, 1.3, n_alpha)\n",
    "p_alpha_data_M31 = np.zeros(n_alpha)\n",
    "p_alpha_data_MW = np.zeros(n_alpha)\n",
    "n_points =  len(M31_all[field])\n",
    "for i in range(n_alpha):\n",
    "    for j in range(n_points):\n",
    "        p_alpha_data_M31[i] += p(ratio_M31[j], alpha[i], xerr[j])\n",
    "        p_alpha_data_MW[i] += p(ratio_MW[j], alpha[i], yerr[j])\n",
    "p_alpha_data_M31 = np.exp(p_alpha_data_M31 - p_alpha_data_M31.max())\n",
    "p_alpha_data_MW = np.exp(p_alpha_data_MW - p_alpha_data_MW.max())\n",
    "norm_M31 = np.trapz(p_alpha_data_M31, x=alpha)\n",
    "norm_MW = np.trapz(p_alpha_data_MW, x=alpha)\n",
    "print(norm_M31)\n",
    "plt.plot(alpha, p_alpha_data_M31/norm_M31)\n",
    "plt.plot(alpha, p_alpha_data_MW/norm_MW)"
   ]
  },
  {
   "cell_type": "code",
   "execution_count": 255,
   "metadata": {
    "collapsed": false
   },
   "outputs": [
    {
     "name": "stdout",
     "output_type": "stream",
     "text": [
      "Ks_2sampResult(statistic=0.45000000000000007, pvalue=0.023213275854449551)\n",
      "KstestResult(statistic=0.23448000000000008, pvalue=0.18886578081990102)\n",
      "KstestResult(statistic=0.25567999999999991, pvalue=0.12196960306520221)\n",
      "Ks_2sampResult(statistic=0.42368421052631577, pvalue=0.042359302258534806)\n"
     ]
    },
    {
     "data": {
      "image/png": "[encoded data removed]",
      "text/plain": [
       "<matplotlib.figure.Figure at 0x120bc48d0>"
      ]
     },
     "metadata": {},
     "output_type": "display_data"
    }
   ],
   "source": [
    "plt.errorbar(M31_all['mu'], MW_all['mu'],xerr=M31_all['mu_sigma'], yerr=MW_all['mu_sigma'], fmt='o')\n",
    "print(stats.ks_2samp(M31_all['mu'], MW_all['mu']))\n",
    "print(stats.kstest(M31_all['mu'], 'uniform'))\n",
    "print(stats.kstest(MW_all['mu'], 'uniform'))\n",
    "x = np.linspace(0.,1.,20)\n",
    "plt.plot(x,x)\n",
    "r = powerlaw.rvs(1.0, size=19)\n",
    "print(stats.ks_2samp(MW_all['mu'], r))"
   ]
  },
  {
   "cell_type": "code",
   "execution_count": 293,
   "metadata": {
    "collapsed": false
   },
   "outputs": [
    {
     "name": "stdout",
     "output_type": "stream",
     "text": [
      "0.843627937319\n"
     ]
    },
    {
     "data": {
      "text/plain": [
       "[<matplotlib.lines.Line2D at 0x121a9bf28>]"
      ]
     },
     "execution_count": 293,
     "metadata": {},
     "output_type": "execute_result"
    },
    {
     "data": {
      "image/png": "[encoded data removed]",
      "text/plain": [
       "<matplotlib.figure.Figure at 0x121ab52e8>"
      ]
     },
     "metadata": {},
     "output_type": "display_data"
    }
   ],
   "source": [
    "field = 'mu'\n",
    "def p(x,alpha):\n",
    "    return alpha * x**(alpha-1.0)\n",
    "n_alpha = 100\n",
    "alpha = np.linspace(0.2, 3.0, n_alpha)\n",
    "p_alpha_data_M31 = np.ones(n_alpha)\n",
    "p_alpha_data_MW = np.ones(n_alpha)\n",
    "n_points =  len(M31_all[field])\n",
    "for i in range(n_alpha):\n",
    "    for j in range(n_points):\n",
    "        p_alpha_data_M31[i] *= p(M31_all[field][j], alpha[i])\n",
    "        p_alpha_data_MW[i] *= p(MW_all[field][j], alpha[i])\n",
    "norm_M31 = np.trapz(p_alpha_data_M31, x=alpha)\n",
    "norm_MW = np.trapz(p_alpha_data_MW, x=alpha)\n",
    "print(norm_M31)\n",
    "plt.plot(alpha, p_alpha_data_M31/norm_M31)\n",
    "plt.plot(alpha, p_alpha_data_MW/norm_MW)"
   ]
  },
  {
   "cell_type": "code",
   "execution_count": 415,
   "metadata": {
    "collapsed": false
   },
   "outputs": [
    {
     "name": "stdout",
     "output_type": "stream",
     "text": [
      "Ks_2sampResult(statistic=0.35000000000000003, pvalue=0.13494714803612687)\n",
      "KstestResult(statistic=0.82499999999999996, pvalue=1.7763568394002505e-15)\n",
      "KstestResult(statistic=0.80380000000000007, pvalue=1.8873791418627661e-14)\n"
     ]
    },
    {
     "data": {
      "text/plain": [
       "[<matplotlib.lines.Line2D at 0x1290d55f8>]"
      ]
     },
     "execution_count": 415,
     "metadata": {},
     "output_type": "execute_result"
    },
    {
     "data": {
      "image/png": "[encoded data removed]",
      "text/plain": [
       "<matplotlib.figure.Figure at 0x127f9fd30>"
      ]
     },
     "metadata": {},
     "output_type": "display_data"
    }
   ],
   "source": [
    "field = 'ba_ratio'\n",
    "plt.errorbar(M31_all['ba_ratio'], MW_all['ba_ratio'],\n",
    "             xerr=M31_all['ba_ratio_sigma'], yerr=MW_all['ba_ratio_sigma'], fmt='o')\n",
    "print(stats.ks_2samp(M31_all[field], MW_all[field]))\n",
    "print(stats.kstest(M31_all[field], 'uniform'))\n",
    "print(stats.kstest(MW_all[field], 'uniform'))\n",
    "x = np.linspace(0.8,1.,20)\n",
    "plt.plot(x,x)"
   ]
  },
  {
   "cell_type": "code",
   "execution_count": 413,
   "metadata": {
    "collapsed": false
   },
   "outputs": [
    {
     "name": "stdout",
     "output_type": "stream",
     "text": [
      "0.0224654188601\n"
     ]
    },
    {
     "data": {
      "text/plain": [
       "[<matplotlib.lines.Line2D at 0x128ebe400>]"
      ]
     },
     "execution_count": 413,
     "metadata": {},
     "output_type": "execute_result"
    },
    {
     "data": {
      "image/png": "[encoded data removed]",
      "text/plain": [
       "<matplotlib.figure.Figure at 0x123300390>"
      ]
     },
     "metadata": {},
     "output_type": "display_data"
    }
   ],
   "source": [
    "field = 'ba_ratio'\n",
    "def p(x,mean,sigma):\n",
    "    return (-0.5*((x-mean)/sigma)**2.0)\n",
    "\n",
    "n_alpha = 100\n",
    "alpha = np.linspace(0.85, 0.96, n_alpha)\n",
    "p_alpha_data_M31 = np.zeros(n_alpha)\n",
    "p_alpha_data_MW = np.zeros(n_alpha)\n",
    "n_points =  len(M31_all[field])\n",
    "for i in range(n_alpha):\n",
    "    for j in range(n_points):\n",
    "        p_alpha_data_M31[i] += p(M31_all[field][j], alpha[i], M31_all[field].std())\n",
    "        p_alpha_data_MW[i] += p(MW_all[field][j], alpha[i], MW_all[field].std())\n",
    "p_alpha_data_M31 = np.exp(p_alpha_data_M31 - p_alpha_data_M31.max())\n",
    "p_alpha_data_MW = np.exp(p_alpha_data_MW - p_alpha_data_MW.max())\n",
    "norm_M31 = np.trapz(p_alpha_data_M31, x=alpha)\n",
    "norm_MW = np.trapz(p_alpha_data_MW, x=alpha)\n",
    "print(norm_M31)\n",
    "plt.plot(alpha, p_alpha_data_M31/norm_M31)\n",
    "plt.plot(alpha, p_alpha_data_MW/norm_MW)\n",
    "#a = plt.hist(M31_all[field], normed=True)"
   ]
  },
  {
   "cell_type": "code",
   "execution_count": 299,
   "metadata": {
    "collapsed": false
   },
   "outputs": [
    {
     "name": "stdout",
     "output_type": "stream",
     "text": [
      "Ks_2sampResult(statistic=0.20000000000000001, pvalue=0.77095294467658682)\n"
     ]
    },
    {
     "data": {
      "text/plain": [
       "[<matplotlib.lines.Line2D at 0x122017d30>]"
      ]
     },
     "execution_count": 299,
     "metadata": {},
     "output_type": "execute_result"
    },
    {
     "data": {
      "image/png": "[encoded data removed]",
      "text/plain": [
       "<matplotlib.figure.Figure at 0x121c90a20>"
      ]
     },
     "metadata": {},
     "output_type": "display_data"
    }
   ],
   "source": [
    "plt.errorbar(M31_all['ca_ratio'], MW_all['ca_ratio'],\n",
    "             xerr=M31_all['ca_ratio_sigma'], yerr=MW_all['ca_ratio_sigma'], fmt='o')\n",
    "print(stats.ks_2samp(M31_all['ca_ratio'], MW_all['ca_ratio']))\n",
    "#print(stats.kstest(M31_all['mu'], 'uniform'))\n",
    "#print(stats.kstest(MW_all['mu'], 'uniform'))\n",
    "x = np.linspace(0.5,1.,20)\n",
    "plt.plot(x,x)"
   ]
  },
  {
   "cell_type": "code",
   "execution_count": 409,
   "metadata": {
    "collapsed": false
   },
   "outputs": [
    {
     "name": "stdout",
     "output_type": "stream",
     "text": [
      "0.0409811158905\n"
     ]
    },
    {
     "data": {
      "text/plain": [
       "[<matplotlib.lines.Line2D at 0x1288787f0>]"
      ]
     },
     "execution_count": 409,
     "metadata": {},
     "output_type": "execute_result"
    },
    {
     "data": {
      "image/png": "[encoded data removed]",
      "text/plain": [
       "<matplotlib.figure.Figure at 0x1289d5240>"
      ]
     },
     "metadata": {},
     "output_type": "display_data"
    }
   ],
   "source": [
    "field = 'ca_ratio'\n",
    "def p(x,mean,sigma):\n",
    "    return (-0.5*((x-mean)/sigma)**2.0)\n",
    "\n",
    "n_alpha = 100\n",
    "alpha = np.linspace(0.65, 0.8, n_alpha)\n",
    "p_alpha_data_M31 = np.zeros(n_alpha)\n",
    "p_alpha_data_MW = np.zeros(n_alpha)\n",
    "n_points =  len(M31_all[field])\n",
    "for i in range(n_alpha):\n",
    "    for j in range(n_points):\n",
    "        p_alpha_data_M31[i] += p(M31_all[field][j], alpha[i], M31_all[field].std())\n",
    "        p_alpha_data_MW[i] += p(MW_all[field][j], alpha[i], MW_all[field].std())\n",
    "p_alpha_data_M31 = np.exp(p_alpha_data_M31 - p_alpha_data_M31.max())\n",
    "p_alpha_data_MW = np.exp(p_alpha_data_MW - p_alpha_data_MW.max())\n",
    "norm_M31 = np.trapz(p_alpha_data_M31, x=alpha)\n",
    "norm_MW = np.trapz(p_alpha_data_MW, x=alpha)\n",
    "print(norm_M31)\n",
    "plt.plot(alpha, p_alpha_data_M31/norm_M31)\n",
    "plt.plot(alpha, p_alpha_data_MW/norm_MW)\n",
    "#a = plt.hist(M31_all[field], normed=True)"
   ]
  },
  {
   "cell_type": "code",
   "execution_count": null,
   "metadata": {
    "collapsed": true
   },
   "outputs": [],
   "source": []
  }
 ],
 "metadata": {
  "kernelspec": {
   "display_name": "Python 3",
   "language": "python",
   "name": "python3"
  },
  "language_info": {
   "codemirror_mode": {
    "name": "ipython",
    "version": 3
   },
   "file_extension": ".py",
   "mimetype": "text/x-python",
   "name": "python",
   "nbconvert_exporter": "python",
   "pygments_lexer": "ipython3",
   "version": "3.6.0"
  }
 },
 "nbformat": 4,
 "nbformat_minor": 0
}
