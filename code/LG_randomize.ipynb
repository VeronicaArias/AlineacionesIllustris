{
 "cells": [
  {
   "cell_type": "code",
   "execution_count": 21,
   "metadata": {
    "collapsed": false
   },
   "outputs": [],
   "source": [
    "import matplotlib.pyplot as plt\n",
    "import numpy as np\n",
    "import matplotlib.cm as cm\n",
    "from scipy.optimize import curve_fit\n",
    "import matplotlib as mpl\n",
    "import struct\n",
    "import glob\n",
    "import os \n",
    "import struct\n",
    "from sklearn import linear_model\n",
    "import scipy.linalg\n",
    "hubble = 0.73\n",
    "vmax_MW = 220.0\n",
    "vmax_M31 = 270.0\n",
    "m_star_M31 = 10.3\n",
    "m_star_MW = 6.08\n",
    "\n",
    "%matplotlib inline"
   ]
  },
  {
   "cell_type": "code",
   "execution_count": 22,
   "metadata": {
    "collapsed": true
   },
   "outputs": [],
   "source": [
    "def load_obs(obs_name):\n",
    "    dtype=[('name','|S20'),\n",
    "           ('x', 'f8'),\n",
    "           ('y', 'f8'), \n",
    "           ('z', 'f8'),\n",
    "           ('delta_plus', 'f8'),\n",
    "           ('delta_minus', 'f8'),\n",
    "           ('vmag', 'f8'),\n",
    "           ('delta_vmag', 'f8')]\n",
    "    obs_data = np.loadtxt(obs_name, dtype=dtype)    \n",
    "    return obs_data"
   ]
  },
  {
   "cell_type": "code",
   "execution_count": 23,
   "metadata": {
    "collapsed": true
   },
   "outputs": [],
   "source": [
    "def main_halos(snap_data, sort_column='mstar', single_reverse=False):\n",
    "    id_sorted = np.argsort(snap_data[sort_column])\n",
    "    if single_reverse:\n",
    "        id_halo_A = id_sorted[0]\n",
    "        main_halos_data = snap_data[id_halo_A]\n",
    "    else:\n",
    "        id_halo_A = id_sorted[-1]\n",
    "        id_halo_B = id_sorted[-2]\n",
    "        main_halos_data = snap_data[[id_halo_A, id_halo_B]]\n",
    "    return main_halos_data"
   ]
  },
  {
   "cell_type": "code",
   "execution_count": 24,
   "metadata": {
    "collapsed": false
   },
   "outputs": [],
   "source": [
    "def satellite_halos(halo_data, halo_center, vmax=None, max_points=10, sort_column='vmag'):\n",
    "    jj = np.argsort(halo_data[sort_column])\n",
    "    tmp_halo = halo_data[jj]\n",
    "    if vmax is None:\n",
    "        radius = halo_center['vmax']/(10.0 * 100) * 1000 * hubble# in kpc\n",
    "    else:\n",
    "        radius = vmax/(10.0 * 100) * 1000  * hubble # in kpc\n",
    "    print('radius', radius)\n",
    "    for col in list(['x','y','z']):\n",
    "        tmp_halo[col] = tmp_halo[col] - halo_center[col]\n",
    "    \n",
    "    r = np.sqrt(tmp_halo['x']**2 + tmp_halo['y']**2 + tmp_halo['z']**2)\n",
    "    ii = (r < radius) & (r>1E-6)\n",
    "    \n",
    "    tmp_halo = tmp_halo[ii]\n",
    "    r = np.sqrt(tmp_halo['x']**2 + tmp_halo['y']**2 + tmp_halo['z']**2)\n",
    "    return tmp_halo[:max_points], np.min(r[:max_points]), np.max(r[:max_points])"
   ]
  },
  {
   "cell_type": "code",
   "execution_count": 25,
   "metadata": {
    "collapsed": true
   },
   "outputs": [],
   "source": [
    "def inertiaTensor(x,y,z):\n",
    "    I=[]\n",
    "    for index in range(9):\n",
    "        I.append(0)\n",
    "   \n",
    "    I[0] = np.sum(y*y+z*z) \n",
    "    I[1] = np.sum(-y*x)    \n",
    "    I[2] = np.sum(-x*z)    \n",
    "    I[3] = np.sum(-y*x)    \n",
    "    I[4] = np.sum(x*x+z*z) \n",
    "    I[5] = np.sum(-y*z)    \n",
    "    I[6] = np.sum(-z*x)    \n",
    "    I[7] = np.sum(-z*y)    \n",
    "    I[8] = np.sum(x*x+y*y) \n",
    "    tensor = np.array([(I[0:3]), (I[3:6]), (I[6:9])])\n",
    "    vals, vects = np.linalg.eig(tensor)  # they come out unsorted, so the command below is needed\n",
    "    eig_ord = np.argsort(vals)  # a thing to note is that here COLUMN i corrensponds to eigenvalue i.\n",
    "    ord_vals = vals[eig_ord]\n",
    "    ord_vects = vects[:, eig_ord].T\n",
    "    return ord_vals, ord_vects[2]"
   ]
  },
  {
   "cell_type": "code",
   "execution_count": 26,
   "metadata": {
    "collapsed": false
   },
   "outputs": [],
   "source": [
    "def get_best_plane(pos_satellites, plotting=False, unit_vector=np.array([1.0,0.0,0.0])):\n",
    "    \"\"\"\n",
    "    Input:\n",
    "    pos_satellites: Numpy structured array with the satellites positions \n",
    "                    assuming that the halo centar is at 0.0,0.0,0.0.\n",
    "    \"\"\"\n",
    "    \n",
    "    #fit the best plane with a linear regresion, this will be used for a first guess\n",
    "    regr = linear_model.LinearRegression()\n",
    "    X_fit = np.array([pos_satellites[0,:], pos_satellites[1,:]])\n",
    "    Y_fit = np.array(pos_satellites[2,:])\n",
    "    regr.fit(X_fit.T, Y_fit.T)\n",
    "\n",
    "    #create vectors defining the planes\n",
    "    #print('n satellites {}'.format(np.shape(pos_satellites)))\n",
    "    n_vectors = 10000\n",
    "    costheta = (np.random.random(n_vectors)-0.5)*2.0\n",
    "    theta = np.cos(costheta)\n",
    "    phi = np.random.random(n_vectors) * 2.0 * np.pi\n",
    "    unit_vectors = np.zeros((n_vectors,3))\n",
    "    unit_vectors[:,0] = np.sin(theta) * np.cos(phi)\n",
    "    unit_vectors[:,1] = np.sin(theta) * np.sin(phi)\n",
    "    unit_vectors[:,2] = np.cos(theta)\n",
    "    \n",
    "    #replace the answer from the linear fit to be the first guess. This should be the right answer for 3 points!\n",
    "    # i.e. we should get a plane of zero width for three points using this vector.\n",
    "    unit_vectors[0,0] = regr.coef_[0]\n",
    "    unit_vectors[0,1] = regr.coef_[1]\n",
    "    unit_vectors[0,2] = -1.0\n",
    "    unit_vectors[0,:] = unit_vectors[0,:]/(np.sqrt(np.sum(unit_vectors[0,:]**2)))\n",
    "    \n",
    "    \n",
    "    # find distances of all points to all planes\n",
    "    distances_to_planes = np.dot(unit_vectors, pos_satellites)\n",
    "    percentiles = np.percentile(distances_to_planes, [16,50,84], axis=1)\n",
    "    delta_plane = percentiles[2,:]-percentiles[0,:]\n",
    "    \n",
    "    # the best plane is the one with the minimum width\n",
    "    i_min = np.argmin(delta_plane)\n",
    "    \n",
    "    #i_min = np.argmax(delta_plane)\n",
    "    \n",
    "    plane_delta = delta_plane[i_min]\n",
    "    plane_center = percentiles[1,i_min]\n",
    "    plane_vector = unit_vectors[i_min,:]\n",
    "    \n",
    "    if plotting:\n",
    "        plt.scatter(delta_plane, percentiles[1,:], s = 0.1)\n",
    "        #print(percentiles[:,i_min], distances_to_planes[i_min, :], pos_satellites)\n",
    "    #print(\"plane vector\", plane_vector)\n",
    "    return plane_delta, plane_center, plane_vector"
   ]
  },
  {
   "cell_type": "code",
   "execution_count": 27,
   "metadata": {
    "collapsed": true
   },
   "outputs": [],
   "source": [
    "def gen_random_sphere(n_points):\n",
    "    \"\"\"\n",
    "    Sets of points in the 3D sphere\n",
    "    \"\"\"\n",
    "    r = np.random.random(n_points)**(1.0/3.0)\n",
    "    phi = np.random.random(n_points) * 2.0 * np.pi\n",
    "    costheta = 2.0*(np.random.random(n_points) -0.5)\n",
    "    theta = np.arccos(costheta)\n",
    "    x = r * np.sin(theta) * np.cos(phi)\n",
    "    y = r * np.sin(theta) * np.sin(phi)\n",
    "    z = r * np.cos(theta)\n",
    "    return x, y, z"
   ]
  },
  {
   "cell_type": "code",
   "execution_count": 28,
   "metadata": {
    "collapsed": true
   },
   "outputs": [],
   "source": [
    "def spherical_randomize(x_in, y_in, z_in):\n",
    "    \"\"\"\n",
    "    Randomizes a set of points around the coordinates origin.\n",
    "    \"\"\"\n",
    "    n_points = len(x_in)\n",
    "    r = np.sqrt(x_in**2 + y_in**2 + z_in**2)\n",
    "    phi = np.random.random(n_points) * 2.0 * np.pi\n",
    "    costheta = 2.0*(np.random.random(n_points) -0.5)\n",
    "    theta = np.arccos(costheta)\n",
    "    x = r * np.sin(theta) * np.cos(phi)\n",
    "    y = r * np.sin(theta) * np.sin(phi)\n",
    "    z = r * np.cos(theta)\n",
    "    return x, y, z"
   ]
  },
  {
   "cell_type": "code",
   "execution_count": 29,
   "metadata": {
    "collapsed": false
   },
   "outputs": [],
   "source": [
    "def sample_plane_width(x_in, y_in, z_in , n_realizations=100):\n",
    "    \"\"\"\n",
    "    Sample the best plane width for  different n_points\n",
    "    \"\"\"\n",
    "\n",
    "    p_width_all = np.zeros(n_realizations)\n",
    "    p_center_all = np.zeros(n_realizations)\n",
    "    for i in range(n_realizations):\n",
    "        x, y, z = spherical_randomize(x_in, y_in, z_in)\n",
    "        pos = np.array([x,y,z])\n",
    "        p_width_all[i], p_center_all[i] , q = get_best_plane(pos)\n",
    "        \n",
    "\n",
    "    return p_width_all.mean(), p_width_all.std(), p_center_all.mean(), p_center_all.std()"
   ]
  },
  {
   "cell_type": "code",
   "execution_count": 48,
   "metadata": {
    "collapsed": true
   },
   "outputs": [],
   "source": [
    "def write_inertia_and_planes(output_stream, satellite_data, center_data, unit_vector=[0,0,1]):\n",
    "    # inertia tensor\n",
    "    values, vec_a = inertiaTensor(satellite_data['x'], \n",
    "                                satellite_data['y'], \n",
    "                                satellite_data['z'])\n",
    "    output_stream.write(\"{:.2e}  {:.2e}  {:.2e}\\t\".format(values[0], values[1], values[2]))\n",
    "\n",
    "    # finding the best planes \n",
    "    plane_w, plane_c, plane_v = get_best_plane(np.array([satellite_data['x'],\n",
    "                                                    satellite_data['y'],\n",
    "                                                    satellite_data['z']]))\n",
    "    output_stream.write(\"{:.2f} {:.2f}\\t\".format(plane_w, plane_c))\n",
    "    \n",
    "    mu_plane = 0\n",
    "    for i in range(3):\n",
    "        mu_plane += plane_v[i]* unit_vector[i]\n",
    "    mu_I = 0\n",
    "    for i in range(3):\n",
    "        mu_I += vec_a[i]* unit_vector[i]\n",
    "\n",
    "    mu_plane_I = 0\n",
    "    for i in range(3):\n",
    "        mu_plane_I += plane_v[i] * vec_a[i]\n",
    "        \n",
    "    output_stream.write(\"{:.4f} {:.4f} {:.4f}\\t\".format(mu_plane, mu_I, mu_plane_I))\n",
    "    return\n",
    "\n",
    "def write_randomized_inertia_and_planes(output_stream, satellite_data, center_data, unit_vector=[0,0,1]):\n",
    "    # inertia tensor\n",
    "    new_x, new_y, new_z = spherical_randomize(satellite_data['x'], satellite_data['y'], satellite_data['z'])\n",
    "    values, vec_a = inertiaTensor(new_x, new_y, new_z)\n",
    "    output_stream.write(\"{:.2e}  {:.2e}  {:.2e}\\t \".format(values[0], values[1], values[2]))\n",
    "\n",
    "    # finding the best planes \n",
    "    plane_w, plane_c, plane_v = get_best_plane(np.array([new_x, new_y, new_z]))\n",
    "    output_stream.write(\"{:.2f} {:.2f}\\t \".format(plane_w, plane_c))\n",
    "        \n",
    "    mu_plane = 0\n",
    "    for i in range(3):\n",
    "        mu_plane += plane_v[i]* unit_vector[i]\n",
    "    mu_I = 0\n",
    "    for i in range(3):\n",
    "        mu_I += vec_a[i]* unit_vector[i]\n",
    "\n",
    "    mu_plane_I = 0\n",
    "    for i in range(3):\n",
    "        mu_plane_I += plane_v[i] * vec_a[i]\n",
    "        \n",
    "    output_stream.write(\"{:.4f} {:.4f} {:.4f}\\t\".format(mu_plane, mu_I, mu_plane_I))\n",
    "    return\n",
    "\n",
    "def write_center_info(output_stream, center_A, center_B):\n",
    "    #distance between halos in kpc/h and vector connecting the two halos\n",
    "    r_AB = np.ones(3)\n",
    "    r_AB[0] = center_A['x'] - center_B['x']\n",
    "    r_AB[1] = center_A['y'] - center_B['y']\n",
    "    r_AB[2] = center_A['z'] - center_B['z']\n",
    "    d_AB =  np.sqrt(np.sum(r_AB**2))\n",
    "    r_AB = r_AB/d_AB\n",
    "    return r_AB"
   ]
  },
  {
   "cell_type": "code",
   "execution_count": 49,
   "metadata": {
    "collapsed": false
   },
   "outputs": [],
   "source": [
    "def make_LG_stats(n_sat_max=3, n_random=1000, data_path = \"../data/mstar_selected/\", output_path = \"../data/obs_summary/\"):\n",
    "    MW_data = load_obs(\"../data/obs/MW_satellites.txt\")\n",
    "    M31_data = load_obs(\"../data/obs/M31_satellites.txt\")\n",
    "    \n",
    "    MW = main_halos(MW_data, sort_column='vmag', single_reverse=True)\n",
    "    M31 = main_halos(M31_data, sort_column='vmag', single_reverse=True)\n",
    "    \n",
    "    satellite_data_A, min_r_MW, max_r_MW = satellite_halos(MW_data, MW, vmax=vmax_MW, max_points=n_sat_max)\n",
    "    satellite_data_B, min_r_M31, max_r_M31 = satellite_halos(M31_data, M31, vmax=vmax_M31, max_points=n_sat_max)\n",
    " \n",
    "    #number of bright satellites\n",
    "    N_A = len(satellite_data_A)\n",
    "    N_B = len(satellite_data_B)\n",
    "\n",
    "    # bright satellites\n",
    "    print('N bright:!', N_A, N_B)\n",
    "    \n",
    "    output_A = open(os.path.join(output_path, \"halo_M31_nmax_{}.dat\".format(n_sat_max)), \"w\")\n",
    "    output_B = open(os.path.join(output_path, \"halo_MW_nmax_{}.dat\".format(n_sat_max)), \"w\")\n",
    "\n",
    "    #minimum and maximum radius for the satellites\n",
    "    output_A.write(\"{:2f} {:2f}\\t\".format(min_r_M31, max_r_M31))\n",
    "    output_B.write(\"{:2f} {:2f}\\t\".format(min_r_MW, max_r_MW))\n",
    "\n",
    "    r_AB = write_center_info(output_A, M31, MW)\n",
    "    r_AB = write_center_info(output_B, M31, MW)\n",
    "    write_inertia_and_planes(output_A, satellite_data_A, M31, unit_vector=r_AB)\n",
    "    write_inertia_and_planes(output_B, satellite_data_B, MW, unit_vector=r_AB)\n",
    "    output_A.write(\"\\n\")\n",
    "    output_B.write(\"\\n\")\n",
    "    \n",
    "    for i in range(n_random):\n",
    "        output_A.write(\"{:2f} {:2f}\\t\".format(min_r_M31, max_r_M31))\n",
    "        output_B.write(\"{:2f} {:2f}\\t\".format(min_r_MW, max_r_MW))\n",
    "        write_center_info(output_A, M31, MW)\n",
    "        write_center_info(output_B, M31, MW)\n",
    "        write_randomized_inertia_and_planes(output_A, satellite_data_A, M31, unit_vector=r_AB)\n",
    "        write_randomized_inertia_and_planes(output_B, satellite_data_B, MW, unit_vector=r_AB)\n",
    "\n",
    "        output_A.write(\"\\n\")\n",
    "        output_B.write(\"\\n\")\n",
    "\n",
    "    output_A.close()\n",
    "    output_B.close()\n",
    "    "
   ]
  },
  {
   "cell_type": "code",
   "execution_count": 129,
   "metadata": {
    "collapsed": false
   },
   "outputs": [],
   "source": [
    "#for i in range(8,16):\n",
    "#    make_LG_stats(n_sat_max=i, n_random=1000)"
   ]
  },
  {
   "cell_type": "code",
   "execution_count": 153,
   "metadata": {
    "collapsed": false
   },
   "outputs": [],
   "source": [
    "n_sat = np.arange(8,13)\n",
    "n_iter = len(n_sat)\n",
    "MW_summary = {}\n",
    "M31_summary = {}\n",
    "for i in n_sat:\n",
    "    filename_MW = \"../data/obs_summary/halo_MW_nmax_{}.dat\".format(i)\n",
    "    MW_summary[i] = np.loadtxt(filename_MW)\n",
    "    filename_M31 = \"../data/obs_summary/halo_M31_nmax_{}.dat\".format(i)\n",
    "    M31_summary[i] = np.loadtxt(filename_M31)"
   ]
  },
  {
   "cell_type": "code",
   "execution_count": 154,
   "metadata": {
    "collapsed": false
   },
   "outputs": [
    {
     "data": {
      "text/plain": [
       "<matplotlib.collections.PathCollection at 0x112daac18>"
      ]
     },
     "execution_count": 154,
     "metadata": {},
     "output_type": "execute_result"
    },
    {
     "data": {
      "image/png": "[encoded data removed]",
      "text/plain": [
       "<matplotlib.figure.Figure at 0x112cfb358>"
      ]
     },
     "metadata": {},
     "output_type": "display_data"
    }
   ],
   "source": [
    "MW_obs_mu_plane = np.ones(n_iter)\n",
    "M31_obs_mu_plane = np.ones(n_iter)\n",
    "for i in range(n_iter):\n",
    "    data_M31 = M31_summary[n_sat[i]]\n",
    "    M31_obs_mu_plane[i] = np.abs(data_M31[0,7])\n",
    "    data_MW = MW_summary[n_sat[i]]\n",
    "    MW_obs_mu_plane[i] = np.abs(data_MW[0,7])\n",
    "plt.scatter(M31_obs_mu_plane, MW_obs_mu_plane, c=n_sat, s=100, alpha=0.8)\n",
    "plt.scatter(np.abs(data_M31[:,7]), np.abs(data_MW[:,7]), s=0.1)\n",
    "#plt.colorbar()"
   ]
  },
  {
   "cell_type": "code",
   "execution_count": 155,
   "metadata": {
    "collapsed": false
   },
   "outputs": [
    {
     "data": {
      "text/plain": [
       "<matplotlib.collections.PathCollection at 0x112e94668>"
      ]
     },
     "execution_count": 155,
     "metadata": {},
     "output_type": "execute_result"
    },
    {
     "data": {
      "image/png": "[encoded data removed]",
      "text/plain": [
       "<matplotlib.figure.Figure at 0x112cf75f8>"
      ]
     },
     "metadata": {},
     "output_type": "display_data"
    }
   ],
   "source": [
    "column = 8\n",
    "MW_obs_mu_plane = np.ones(n_iter)\n",
    "M31_obs_mu_plane = np.ones(n_iter)\n",
    "for i in range(n_iter):\n",
    "    data_M31 = M31_summary[n_sat[i]]\n",
    "    M31_obs_mu_plane[i] = np.abs(data_M31[0,column])\n",
    "    data_MW = MW_summary[n_sat[i]]\n",
    "    MW_obs_mu_plane[i] = np.abs(data_MW[0,column])\n",
    "\n",
    "data_M31 = M31_summary[9]\n",
    "data_MW = MW_summary[9]\n",
    "plt.scatter(M31_obs_mu_plane, MW_obs_mu_plane, c=n_sat, s=100, alpha=0.8)\n",
    "plt.scatter(np.abs(data_M31[:,column]), np.abs(data_MW[:,column]), s=1.0)\n",
    "#plt.colorbar()"
   ]
  },
  {
   "cell_type": "code",
   "execution_count": 156,
   "metadata": {
    "collapsed": false
   },
   "outputs": [
    {
     "data": {
      "text/plain": [
       "<matplotlib.collections.PathCollection at 0x112f77fd0>"
      ]
     },
     "execution_count": 156,
     "metadata": {},
     "output_type": "execute_result"
    },
    {
     "data": {
      "image/png": "[encoded data removed]",
      "text/plain": [
       "<matplotlib.figure.Figure at 0x112eaf978>"
      ]
     },
     "metadata": {},
     "output_type": "display_data"
    }
   ],
   "source": [
    "column = 5\n",
    "MW_obs_mu_plane = np.ones(n_iter)\n",
    "M31_obs_mu_plane = np.ones(n_iter)\n",
    "for i in range(n_iter):\n",
    "    data_M31 = M31_summary[n_sat[i]]\n",
    "    M31_obs_mu_plane[i] = np.abs(data_M31[0,column])\n",
    "    data_MW = MW_summary[n_sat[i]]\n",
    "    MW_obs_mu_plane[i] = np.abs(data_MW[0,column])\n",
    "    \n",
    "data_M31 = M31_summary[12]\n",
    "data_MW = MW_summary[12]\n",
    "#    MW_obs_mu_plane[i] = np.abs(data_MW[0,column])\n",
    "plt.scatter(M31_obs_mu_plane, MW_obs_mu_plane, c=n_sat, s=100, alpha=0.8)\n",
    "plt.scatter(np.abs(data_M31[:,column]), np.abs(data_MW[:,column]), s=1)\n",
    "#plt.colorbar()"
   ]
  },
  {
   "cell_type": "code",
   "execution_count": 157,
   "metadata": {
    "collapsed": false
   },
   "outputs": [
    {
     "data": {
      "text/plain": [
       "<matplotlib.collections.PathCollection at 0x113071fd0>"
      ]
     },
     "execution_count": 157,
     "metadata": {},
     "output_type": "execute_result"
    },
    {
     "data": {
      "image/png": "[encoded data removed]",
      "text/plain": [
       "<matplotlib.figure.Figure at 0x112f8fcc0>"
      ]
     },
     "metadata": {},
     "output_type": "display_data"
    }
   ],
   "source": [
    "column = 2\n",
    "MW_obs_mu_plane = np.ones(n_iter)\n",
    "M31_obs_mu_plane = np.ones(n_iter)\n",
    "for i in range(n_iter):\n",
    "    data_M31 = M31_summary[n_sat[i]]/np.sqrt(n_sat[i])\n",
    "    M31_obs_mu_plane[i] = np.abs(data_M31[0,column])\n",
    "    data_MW = MW_summary[n_sat[i]]/np.sqrt(n_sat[i])\n",
    "    MW_obs_mu_plane[i] = np.abs(data_MW[0,column])\n",
    "    \n",
    "data_M31 = M31_summary[12]/np.sqrt(12)\n",
    "data_MW = MW_summary[12]/np.sqrt(12)\n",
    "#    MW_obs_mu_plane[i] = np.abs(data_MW[0,column])\n",
    "plt.scatter(np.sqrt(M31_obs_mu_plane), np.sqrt(MW_obs_mu_plane), c=n_sat, s=100, alpha=0.8)\n",
    "plt.scatter(np.sqrt(np.abs(data_M31[:,column])), np.sqrt(np.abs(data_MW[:,column])), s=1)\n",
    "#plt.colorbar()"
   ]
  },
  {
   "cell_type": "code",
   "execution_count": null,
   "metadata": {
    "collapsed": true
   },
   "outputs": [],
   "source": []
  }
 ],
 "metadata": {
  "kernelspec": {
   "display_name": "Python 3",
   "language": "python",
   "name": "python3"
  },
  "language_info": {
   "codemirror_mode": {
    "name": "ipython",
    "version": 3
   },
   "file_extension": ".py",
   "mimetype": "text/x-python",
   "name": "python",
   "nbconvert_exporter": "python",
   "pygments_lexer": "ipython3",
   "version": "3.6.0"
  }
 },
 "nbformat": 4,
 "nbformat_minor": 0
}
